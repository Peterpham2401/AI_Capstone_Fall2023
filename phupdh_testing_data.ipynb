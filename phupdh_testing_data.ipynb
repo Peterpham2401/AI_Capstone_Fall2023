{
 "cells": [
  {
   "cell_type": "code",
   "execution_count": 1,
   "id": "5ca277ba",
   "metadata": {},
   "outputs": [],
   "source": [
    "import pandas as pd"
   ]
  },
  {
   "cell_type": "code",
   "execution_count": 2,
   "id": "069ae8ff",
   "metadata": {},
   "outputs": [],
   "source": [
    "def read_dataset(input_path: str, sep: str, select_columns: list, rename_columns: list):\n",
    "    if input_path.split(\".\")[1] == \"txt\":\n",
    "        df = pd.read_csv(input_path, sep=sep, quoting=csv.QUOTE_NONE)\n",
    "    elif input_path.split(\".\")[1] == \"parquet\":\n",
    "        df = pd.read_parquet(input_path)\n",
    "    else:\n",
    "        df = pd.read_csv(input_path, sep=sep)\n",
    "\n",
    "    if len(rename_columns) == 0:\n",
    "        return df[select_columns]\n",
    "    elif len(select_columns) == len(rename_columns):\n",
    "        for i in range(0, len(select_columns)):\n",
    "            df.rename(columns={select_columns[i]: rename_columns[i]}, inplace=True)\n",
    "        return df[rename_columns]\n",
    "    else:\n",
    "        return df"
   ]
  },
  {
   "cell_type": "code",
   "execution_count": 61,
   "id": "7d2baa66",
   "metadata": {},
   "outputs": [
    {
     "data": {
      "text/html": [
       "<div>\n",
       "<style scoped>\n",
       "    .dataframe tbody tr th:only-of-type {\n",
       "        vertical-align: middle;\n",
       "    }\n",
       "\n",
       "    .dataframe tbody tr th {\n",
       "        vertical-align: top;\n",
       "    }\n",
       "\n",
       "    .dataframe thead th {\n",
       "        text-align: right;\n",
       "    }\n",
       "</style>\n",
       "<table border=\"1\" class=\"dataframe\">\n",
       "  <thead>\n",
       "    <tr style=\"text-align: right;\">\n",
       "      <th></th>\n",
       "      <th>label</th>\n",
       "      <th>id_1</th>\n",
       "      <th>id_2</th>\n",
       "      <th>sentence1</th>\n",
       "      <th>sentence2</th>\n",
       "    </tr>\n",
       "  </thead>\n",
       "  <tbody>\n",
       "    <tr>\n",
       "      <th>0</th>\n",
       "      <td>1</td>\n",
       "      <td>702876</td>\n",
       "      <td>702977</td>\n",
       "      <td>Amrozi accused his brother, whom he called \"the witness\", of deliberately distorting his evidence.</td>\n",
       "      <td>Referring to him as only \"the witness\", Amrozi accused his brother of deliberately distorting his evidence.</td>\n",
       "    </tr>\n",
       "    <tr>\n",
       "      <th>1</th>\n",
       "      <td>0</td>\n",
       "      <td>2108705</td>\n",
       "      <td>2108831</td>\n",
       "      <td>Yucaipa owned Dominick's before selling the chain to Safeway in 1998 for $2.5 billion.</td>\n",
       "      <td>Yucaipa bought Dominick's in 1995 for $693 million and sold it to Safeway for $1.8 billion in 1998.</td>\n",
       "    </tr>\n",
       "    <tr>\n",
       "      <th>2</th>\n",
       "      <td>1</td>\n",
       "      <td>1330381</td>\n",
       "      <td>1330521</td>\n",
       "      <td>They had published an advertisement on the Internet on June 10, offering the cargo for sale, he added.</td>\n",
       "      <td>On June 10, the ship's owners had published an advertisement on the Internet, offering the explosives for sale.</td>\n",
       "    </tr>\n",
       "    <tr>\n",
       "      <th>3</th>\n",
       "      <td>0</td>\n",
       "      <td>3344667</td>\n",
       "      <td>3344648</td>\n",
       "      <td>Around 0335 GMT, Tab shares were up 19 cents, or 4.4%, at A$4.56, having earlier set a record high of A$4.57.</td>\n",
       "      <td>Tab shares jumped 20 cents, or 4.6%, to set a record closing high at A$4.57.</td>\n",
       "    </tr>\n",
       "    <tr>\n",
       "      <th>4</th>\n",
       "      <td>1</td>\n",
       "      <td>1236820</td>\n",
       "      <td>1236712</td>\n",
       "      <td>The stock rose $2.11, or about 11 percent, to close Friday at $21.51 on the New York Stock Exchange.</td>\n",
       "      <td>PG&amp;E Corp. shares jumped $1.63 or 8 percent to $21.03 on the New York Stock Exchange on Friday.</td>\n",
       "    </tr>\n",
       "    <tr>\n",
       "      <th>...</th>\n",
       "      <td>...</td>\n",
       "      <td>...</td>\n",
       "      <td>...</td>\n",
       "      <td>...</td>\n",
       "      <td>...</td>\n",
       "    </tr>\n",
       "    <tr>\n",
       "      <th>4071</th>\n",
       "      <td>1</td>\n",
       "      <td>1620264</td>\n",
       "      <td>1620507</td>\n",
       "      <td>\"At this point, Mr. Brando announced: 'Somebody ought to put a bullet'\" through her head, the motion continued.</td>\n",
       "      <td>Brando said that \"somebody ought to put a bullet\" through her head, according to the defense.</td>\n",
       "    </tr>\n",
       "    <tr>\n",
       "      <th>4072</th>\n",
       "      <td>0</td>\n",
       "      <td>1848001</td>\n",
       "      <td>1848224</td>\n",
       "      <td>Martin, 58, will be freed today after serving two thirds of his five-year sentence for the manslaughter of 16-year-old Fred Barras.</td>\n",
       "      <td>Martin served two thirds of a five-year sentence for the manslaughter of Barras and for wounding Fearon.</td>\n",
       "    </tr>\n",
       "    <tr>\n",
       "      <th>4073</th>\n",
       "      <td>1</td>\n",
       "      <td>747160</td>\n",
       "      <td>747144</td>\n",
       "      <td>\"We have concluded that the outlook for price stability over the medium term has improved significantly since our last decision to lower interest rates,\" Duisenberg said.</td>\n",
       "      <td>In a statement, the ECB said the outlook for price stability over the medium term had \"improved significantly\" since its last decision to lower interest rates in March.</td>\n",
       "    </tr>\n",
       "    <tr>\n",
       "      <th>4074</th>\n",
       "      <td>1</td>\n",
       "      <td>2539933</td>\n",
       "      <td>2539850</td>\n",
       "      <td>The notification was first reported Friday by MSNBC.</td>\n",
       "      <td>MSNBC.com first reported the CIA request on Friday.</td>\n",
       "    </tr>\n",
       "    <tr>\n",
       "      <th>4075</th>\n",
       "      <td>0</td>\n",
       "      <td>453575</td>\n",
       "      <td>453448</td>\n",
       "      <td>The 30-year bond US30YT=RR rose 22/32 for a yield of 4.31 percent, versus 4.35 percent at Wednesday's close.</td>\n",
       "      <td>The 30-year bond US30YT=RR grew 1-3/32 for a yield of 4.30 percent, down from 4.35 percent late Wednesday.</td>\n",
       "    </tr>\n",
       "  </tbody>\n",
       "</table>\n",
       "<p>4076 rows × 5 columns</p>\n",
       "</div>"
      ],
      "text/plain": [
       "      label     id_1     id_2  \\\n",
       "0         1   702876   702977   \n",
       "1         0  2108705  2108831   \n",
       "2         1  1330381  1330521   \n",
       "3         0  3344667  3344648   \n",
       "4         1  1236820  1236712   \n",
       "...     ...      ...      ...   \n",
       "4071      1  1620264  1620507   \n",
       "4072      0  1848001  1848224   \n",
       "4073      1   747160   747144   \n",
       "4074      1  2539933  2539850   \n",
       "4075      0   453575   453448   \n",
       "\n",
       "                                                                                                                                                                       sentence1  \\\n",
       "0                                                                             Amrozi accused his brother, whom he called \"the witness\", of deliberately distorting his evidence.   \n",
       "1                                                                                         Yucaipa owned Dominick's before selling the chain to Safeway in 1998 for $2.5 billion.   \n",
       "2                                                                         They had published an advertisement on the Internet on June 10, offering the cargo for sale, he added.   \n",
       "3                                                                  Around 0335 GMT, Tab shares were up 19 cents, or 4.4%, at A$4.56, having earlier set a record high of A$4.57.   \n",
       "4                                                                           The stock rose $2.11, or about 11 percent, to close Friday at $21.51 on the New York Stock Exchange.   \n",
       "...                                                                                                                                                                          ...   \n",
       "4071                                                             \"At this point, Mr. Brando announced: 'Somebody ought to put a bullet'\" through her head, the motion continued.   \n",
       "4072                                         Martin, 58, will be freed today after serving two thirds of his five-year sentence for the manslaughter of 16-year-old Fred Barras.   \n",
       "4073  \"We have concluded that the outlook for price stability over the medium term has improved significantly since our last decision to lower interest rates,\" Duisenberg said.   \n",
       "4074                                                                                                                        The notification was first reported Friday by MSNBC.   \n",
       "4075                                                                The 30-year bond US30YT=RR rose 22/32 for a yield of 4.31 percent, versus 4.35 percent at Wednesday's close.   \n",
       "\n",
       "                                                                                                                                                                     sentence2  \n",
       "0                                                                  Referring to him as only \"the witness\", Amrozi accused his brother of deliberately distorting his evidence.  \n",
       "1                                                                          Yucaipa bought Dominick's in 1995 for $693 million and sold it to Safeway for $1.8 billion in 1998.  \n",
       "2                                                              On June 10, the ship's owners had published an advertisement on the Internet, offering the explosives for sale.  \n",
       "3                                                                                                 Tab shares jumped 20 cents, or 4.6%, to set a record closing high at A$4.57.  \n",
       "4                                                                              PG&E Corp. shares jumped $1.63 or 8 percent to $21.03 on the New York Stock Exchange on Friday.  \n",
       "...                                                                                                                                                                        ...  \n",
       "4071                                                                             Brando said that \"somebody ought to put a bullet\" through her head, according to the defense.  \n",
       "4072                                                                  Martin served two thirds of a five-year sentence for the manslaughter of Barras and for wounding Fearon.  \n",
       "4073  In a statement, the ECB said the outlook for price stability over the medium term had \"improved significantly\" since its last decision to lower interest rates in March.  \n",
       "4074                                                                                                                       MSNBC.com first reported the CIA request on Friday.  \n",
       "4075                                                                The 30-year bond US30YT=RR grew 1-3/32 for a yield of 4.30 percent, down from 4.35 percent late Wednesday.  \n",
       "\n",
       "[4076 rows x 5 columns]"
      ]
     },
     "metadata": {},
     "output_type": "display_data"
    }
   ],
   "source": [
    "df = pd.read_parquet(dataset_mrpc)\n",
    "with pd.option_context('display.max_colwidth', None):\n",
    "    display(df)"
   ]
  },
  {
   "cell_type": "markdown",
   "id": "b498b14f",
   "metadata": {},
   "source": [
    "# Process training set"
   ]
  },
  {
   "cell_type": "code",
   "execution_count": 3,
   "id": "6475dc83",
   "metadata": {},
   "outputs": [],
   "source": [
    "dataset_etpc = \"dataset/train_set/etpc_train.parquet\"\n",
    "dataset_mrpc = \"dataset/train_set/mrpc_train.parquet\"\n",
    "dataset_paws = \"dataset/train_set/paws_labeled_final_train.parquet\"\n",
    "dataset_superGlue = \"dataset/train_set/superGlue_axb_train.parquet\""
   ]
  },
  {
   "cell_type": "code",
   "execution_count": 4,
   "id": "33f8f372",
   "metadata": {},
   "outputs": [
    {
     "data": {
      "text/plain": [
       "60382"
      ]
     },
     "execution_count": 4,
     "metadata": {},
     "output_type": "execute_result"
    }
   ],
   "source": [
    "df_etpc = read_dataset(dataset_etpc, \"\", [\"sentence1\", \"sentence2\", \"etpc_label\"], [\"input\", \"target\", \"label\"]) \n",
    "df_paws = read_dataset(dataset_paws, \"\", [\"sentence1\", \"sentence2\", \"label\"], [\"input\", \"target\", \"label\"]) \n",
    "df_superGlue = read_dataset(dataset_superGlue, \"\", [\"sentence1\", \"sentence2\", \"label\"], [\"input\", \"target\", \"label\"]) \n",
    "df_mrpc = read_dataset(dataset_mrpc, \"\", [\"sentence1\", \"sentence2\", \"label\"], [\"input\", \"target\", \"label\"]) \n",
    "\n",
    "df_train = pd.concat([df_etpc, df_paws, df_superGlue, df_mrpc])\n",
    "len(df_train)"
   ]
  },
  {
   "cell_type": "code",
   "execution_count": 6,
   "id": "ab5cda5e",
   "metadata": {
    "scrolled": true
   },
   "outputs": [
    {
     "data": {
      "text/plain": [
       "28553"
      ]
     },
     "execution_count": 6,
     "metadata": {},
     "output_type": "execute_result"
    }
   ],
   "source": [
    "df_train_quality = df_train.loc[df_train[\"label\"] == 1]\n",
    "df_train_quality "
   ]
  },
  {
   "cell_type": "markdown",
   "id": "12180a0b",
   "metadata": {},
   "source": [
    "# Process test set"
   ]
  },
  {
   "cell_type": "code",
   "execution_count": 74,
   "id": "0e93bc05",
   "metadata": {},
   "outputs": [],
   "source": [
    "dataset_mrpc = \"dataset/test_set/mrpc_test.parquet\"\n",
    "dataset_paws = \"dataset/test_set/paws_labeled_final_test.parquet\"\n",
    "dataset_superGlue = \"dataset/test_set/superGlue_axg_test.parquet\""
   ]
  },
  {
   "cell_type": "code",
   "execution_count": 84,
   "id": "f36f5885",
   "metadata": {},
   "outputs": [
    {
     "data": {
      "text/plain": [
       "10081"
      ]
     },
     "execution_count": 84,
     "metadata": {},
     "output_type": "execute_result"
    }
   ],
   "source": [
    "df_paws = read_dataset(dataset_paws, \"\", [\"sentence1\", \"sentence2\", \"label\"], [\"input\", \"target\", \"label\"]) \n",
    "df_superGlue = read_dataset(dataset_superGlue, \"\", [\"premise\", \"hypothesis\", \"label\"], [\"input\", \"target\", \"label\"]) \n",
    "df_mrpc = read_dataset(dataset_mrpc, \"\", [\"sentence1\", \"sentence2\", \"label\"], [\"input\", \"target\", \"label\"]) "
   ]
  },
  {
   "cell_type": "markdown",
   "id": "6c0eb820",
   "metadata": {},
   "source": [
    "# Process validation set"
   ]
  },
  {
   "cell_type": "code",
   "execution_count": 85,
   "id": "631c99ac",
   "metadata": {},
   "outputs": [],
   "source": [
    "dataset_mrpc = \"dataset/validation_set/mrpc_validation.parquet\"\n",
    "dataset_paws = \"dataset/validation_set/paws_labeled_final_validation.parquet\""
   ]
  },
  {
   "cell_type": "code",
   "execution_count": 86,
   "id": "16423ecf",
   "metadata": {},
   "outputs": [
    {
     "data": {
      "text/plain": [
       "8408"
      ]
     },
     "execution_count": 86,
     "metadata": {},
     "output_type": "execute_result"
    }
   ],
   "source": [
    "df_paws = read_dataset(dataset_paws, \"\", [\"sentence1\", \"sentence2\", \"label\"], [\"input\", \"target\", \"label\"]) \n",
    "df_mrpc = read_dataset(dataset_mrpc, \"\", [\"sentence1\", \"sentence2\", \"label\"], [\"input\", \"target\", \"label\"]) \n",
    "\n",
    "df_validation = pd.concat([df_paws, df_mrpc])\n",
    "len(df_validation)"
   ]
  },
  {
   "cell_type": "code",
   "execution_count": 23,
   "id": "f4f111cf",
   "metadata": {},
   "outputs": [],
   "source": [
    "df_simpleWiki = pd.read_json(path_or_buf=\"dataset/SimpleWiki.jsonl\", lines=True)"
   ]
  },
  {
   "cell_type": "code",
   "execution_count": 39,
   "id": "e5ef3df7",
   "metadata": {},
   "outputs": [],
   "source": [
    "df_simpleWiki.rename(columns={0: \"#1 String\", 1: \"#2 String\"})\n",
    "df_simpleWiki[\"label\"] = 1\n",
    "df_simpleWiki.to_csv(\"dataset/new_data/simpleWiki.csv\", index=True)"
   ]
  },
  {
   "cell_type": "code",
   "execution_count": 43,
   "id": "1f3ea819",
   "metadata": {},
   "outputs": [],
   "source": [
    "df_coco = pd.read_json(path_or_buf=\"dataset/coco_captions.jsonl\", lines=True)"
   ]
  },
  {
   "cell_type": "code",
   "execution_count": 58,
   "id": "b85444f1",
   "metadata": {},
   "outputs": [
    {
     "data": {
      "text/plain": [
       "0         [A bathroom with a border of butterflies and b...\n",
       "1         [A bathroom with a border of butterflies and b...\n",
       "2         [A bathroom with a border of butterflies and b...\n",
       "3         [A bathroom with a border of butterflies and b...\n",
       "4         [A blue and white bathroom with butterfly them...\n",
       "                                ...                        \n",
       "828390    [Fans pose with stuffed animals at an ice rink...\n",
       "828391    [Fans pose with stuffed animals at an ice rink...\n",
       "828392    [A couple of women with some stuffed animals.,...\n",
       "828393    [A couple of women with some stuffed animals.,...\n",
       "828394    [Two women smile for the camea while posing iw...\n",
       "Name: texts, Length: 828395, dtype: object"
      ]
     },
     "execution_count": 58,
     "metadata": {},
     "output_type": "execute_result"
    }
   ],
   "source": [
    "pd.Series(df_coco['texts'])"
   ]
  },
  {
   "cell_type": "code",
   "execution_count": 56,
   "id": "83a07bab",
   "metadata": {},
   "outputs": [
    {
     "data": {
      "text/plain": [
       "'A blue and white bathroom with butterfly themed wall tiles.'"
      ]
     },
     "execution_count": 56,
     "metadata": {},
     "output_type": "execute_result"
    }
   ],
   "source": [
    "df_coco[\"texts\"][0][1]"
   ]
  }
 ],
 "metadata": {
  "kernelspec": {
   "display_name": "Python_3.11",
   "language": "python",
   "name": "py_3.11"
  },
  "language_info": {
   "codemirror_mode": {
    "name": "ipython",
    "version": 3
   },
   "file_extension": ".py",
   "mimetype": "text/x-python",
   "name": "python",
   "nbconvert_exporter": "python",
   "pygments_lexer": "ipython3",
   "version": "3.11.4"
  }
 },
 "nbformat": 4,
 "nbformat_minor": 5
}
