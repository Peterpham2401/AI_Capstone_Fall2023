{
 "cells": [
  {
   "cell_type": "code",
   "execution_count": 1,
   "metadata": {},
   "outputs": [],
   "source": [
    "import pandas as pd"
   ]
  },
  {
   "cell_type": "code",
   "execution_count": 3,
   "metadata": {},
   "outputs": [
    {
     "name": "stdout",
     "output_type": "stream",
     "text": [
      "<class 'pandas.core.frame.DataFrame'>\n",
      "RangeIndex: 5000 entries, 0 to 4999\n",
      "Data columns (total 8 columns):\n",
      " #   Column           Non-Null Count  Dtype  \n",
      "---  ------           --------------  -----  \n",
      " 0   text             5000 non-null   object \n",
      " 1   paraphrase       4647 non-null   object \n",
      " 2   BLUE_score       4647 non-null   float64\n",
      " 3   TER_score        4647 non-null   float64\n",
      " 4   ROUGE1_score     4647 non-null   float64\n",
      " 5   ROUGE2_score     4647 non-null   float64\n",
      " 6   ROUGEL_score     4647 non-null   float64\n",
      " 7   SACREBLUE_score  4647 non-null   float64\n",
      "dtypes: float64(6), object(2)\n",
      "memory usage: 312.6+ KB\n"
     ]
    }
   ],
   "source": [
    "eda_model_prarrot = pd.read_csv('./EDA_model_Parrot.csv')\n",
    "eda_model_prarrot.info()"
   ]
  }
 ],
 "metadata": {
  "kernelspec": {
   "display_name": ".venv",
   "language": "python",
   "name": "python3"
  },
  "language_info": {
   "codemirror_mode": {
    "name": "ipython",
    "version": 3
   },
   "file_extension": ".py",
   "mimetype": "text/x-python",
   "name": "python",
   "nbconvert_exporter": "python",
   "pygments_lexer": "ipython3",
   "version": "3.9.12"
  }
 },
 "nbformat": 4,
 "nbformat_minor": 2
}
