{
 "cells": [
  {
   "cell_type": "code",
   "execution_count": 2,
   "metadata": {},
   "outputs": [],
   "source": [
    "!pip freeze > requirements.txt"
   ]
  },
  {
   "cell_type": "code",
   "execution_count": 38,
   "metadata": {},
   "outputs": [],
   "source": [
    "from transformers import PegasusForConditionalGeneration, PegasusTokenizer\n",
    "import sentencepiece\n",
    "import torch\n",
    "from sentence_splitter import SentenceSplitter\n",
    "import evaluate\n",
    "import pandas as pd\n",
    "from tqdm import tqdm"
   ]
  },
  {
   "cell_type": "code",
   "execution_count": 210,
   "metadata": {},
   "outputs": [],
   "source": [
    "# Load data\n",
    "\n",
    "test_data = pd.read_parquet('../datasets/test_set/test_dataset.parquet')\n",
    "test_data = test_data.drop(columns=['#2 String', 'label'])\n",
    "test_data = test_data.iloc[0:10]"
   ]
  },
  {
   "cell_type": "code",
   "execution_count": 211,
   "metadata": {},
   "outputs": [],
   "source": [
    "test_data.dropna(inplace=True)"
   ]
  },
  {
   "cell_type": "code",
   "execution_count": 212,
   "metadata": {},
   "outputs": [
    {
     "data": {
      "text/html": [
       "<div>\n",
       "<style scoped>\n",
       "    .dataframe tbody tr th:only-of-type {\n",
       "        vertical-align: middle;\n",
       "    }\n",
       "\n",
       "    .dataframe tbody tr th {\n",
       "        vertical-align: top;\n",
       "    }\n",
       "\n",
       "    .dataframe thead th {\n",
       "        text-align: right;\n",
       "    }\n",
       "</style>\n",
       "<table border=\"1\" class=\"dataframe\">\n",
       "  <thead>\n",
       "    <tr style=\"text-align: right;\">\n",
       "      <th></th>\n",
       "      <th>#1 String</th>\n",
       "    </tr>\n",
       "  </thead>\n",
       "  <tbody>\n",
       "    <tr>\n",
       "      <th>0</th>\n",
       "      <td>This was a series of nested angular standards ...</td>\n",
       "    </tr>\n",
       "    <tr>\n",
       "      <th>1</th>\n",
       "      <td>His father emigrated to Missouri in 1868 but r...</td>\n",
       "    </tr>\n",
       "    <tr>\n",
       "      <th>2</th>\n",
       "      <td>In January 2011 , the Deputy Secretary General...</td>\n",
       "    </tr>\n",
       "    <tr>\n",
       "      <th>3</th>\n",
       "      <td>Steiner argued that , in the right circumstanc...</td>\n",
       "    </tr>\n",
       "    <tr>\n",
       "      <th>4</th>\n",
       "      <td>Luciano Williames Dias ( born July 25 , 1970 )...</td>\n",
       "    </tr>\n",
       "    <tr>\n",
       "      <th>5</th>\n",
       "      <td>During her sophomore , junior and senior summe...</td>\n",
       "    </tr>\n",
       "    <tr>\n",
       "      <th>6</th>\n",
       "      <td>The smallest number that can be represented in...</td>\n",
       "    </tr>\n",
       "    <tr>\n",
       "      <th>7</th>\n",
       "      <td>His father emigrated to Missouri in 1868 , but...</td>\n",
       "    </tr>\n",
       "    <tr>\n",
       "      <th>8</th>\n",
       "      <td>The Villa Pesquera facilities are owned by the...</td>\n",
       "    </tr>\n",
       "    <tr>\n",
       "      <th>9</th>\n",
       "      <td>It is situated south of Köroğlu Mountains and ...</td>\n",
       "    </tr>\n",
       "  </tbody>\n",
       "</table>\n",
       "</div>"
      ],
      "text/plain": [
       "                                           #1 String\n",
       "0  This was a series of nested angular standards ...\n",
       "1  His father emigrated to Missouri in 1868 but r...\n",
       "2  In January 2011 , the Deputy Secretary General...\n",
       "3  Steiner argued that , in the right circumstanc...\n",
       "4  Luciano Williames Dias ( born July 25 , 1970 )...\n",
       "5  During her sophomore , junior and senior summe...\n",
       "6  The smallest number that can be represented in...\n",
       "7  His father emigrated to Missouri in 1868 , but...\n",
       "8  The Villa Pesquera facilities are owned by the...\n",
       "9  It is situated south of Köroğlu Mountains and ..."
      ]
     },
     "execution_count": 212,
     "metadata": {},
     "output_type": "execute_result"
    }
   ],
   "source": [
    "test_data"
   ]
  },
  {
   "cell_type": "code",
   "execution_count": 108,
   "metadata": {},
   "outputs": [
    {
     "name": "stderr",
     "output_type": "stream",
     "text": [
      "[nltk_data] Downloading package wordnet to\n",
      "[nltk_data]     C:\\Users\\Admin\\AppData\\Roaming\\nltk_data...\n",
      "[nltk_data]   Package wordnet is already up-to-date!\n",
      "[nltk_data] Downloading package punkt to\n",
      "[nltk_data]     C:\\Users\\Admin\\AppData\\Roaming\\nltk_data...\n",
      "[nltk_data]   Package punkt is already up-to-date!\n",
      "[nltk_data] Downloading package omw-1.4 to\n",
      "[nltk_data]     C:\\Users\\Admin\\AppData\\Roaming\\nltk_data...\n",
      "[nltk_data]   Package omw-1.4 is already up-to-date!\n"
     ]
    }
   ],
   "source": [
    "\n",
    "# Load metric form HuggingFace {BLUESCORE, TERSORE, ROUGE, METEOR, SACREBLEU}\n",
    "\n",
    "# 'bleu': 1.0, 'precisions': [1.0, 1.0, 1.0, 1.0], 'brevity_penalty': 1.0, 'length_ratio': 1.1666666666666667, 'translation_length': 7, 'reference_length': 6}\n",
    "bleu = evaluate.load('bleu')\n",
    "# {'score': ter_score, 'num_edits': num_edits, 'ref_length': ref_length}\n",
    "ter = evaluate.load('ter')\n",
    "rouge = evaluate.load('rouge')  # ['rouge1', 'rouge2', 'rougeL', 'rougeLsum']\n",
    "meteor = evaluate.load('meteor')  # Its values range from 0 to 1\n",
    "# score: BLEU score | counts: Counts | totals: Totals | precisions: Precisions | bp: Brevity penalty | sys_len: predictions length | ref_len: reference length\n",
    "sacrebleu = evaluate.load('sacrebleu')"
   ]
  },
  {
   "cell_type": "code",
   "execution_count": 109,
   "metadata": {},
   "outputs": [],
   "source": [
    "device = \"cuda\" if torch.cuda.is_available() else \"cpu\""
   ]
  },
  {
   "cell_type": "code",
   "execution_count": 178,
   "metadata": {},
   "outputs": [],
   "source": [
    "def eval(predict_text, reference_text):\n",
    "\n",
    "    BLUE_score = bleu.compute(**{\n",
    "        'predictions': predict_text,\n",
    "        'references': [reference_text]\n",
    "    })\n",
    "    TER_score = ter.compute(**{\n",
    "        'predictions': predict_text,\n",
    "        'references': [reference_text]\n",
    "    })\n",
    "    ROUGE_score = rouge.compute(**{\n",
    "        'predictions': predict_text,\n",
    "        'references': [reference_text]\n",
    "    })\n",
    "    METEOR_score = meteor.compute(**{\n",
    "        'predictions': predict_text,\n",
    "        'references': [reference_text]\n",
    "    })\n",
    "    SACREBLUE_score = sacrebleu.compute(**{\n",
    "        'predictions': predict_text,\n",
    "        'references': [reference_text]\n",
    "    })\n",
    "\n",
    "    return BLUE_score, TER_score, ROUGE_score, METEOR_score, SACREBLUE_score"
   ]
  },
  {
   "cell_type": "markdown",
   "metadata": {},
   "source": [
    "## OWN MODEL"
   ]
  },
  {
   "cell_type": "code",
   "execution_count": 110,
   "metadata": {},
   "outputs": [],
   "source": [
    "\n",
    "# LOAD MODEL, Tokenizer YOUR\n",
    "\n",
    "model_orign = \"ThanhJamieAI/ParapharseV8_8E_4B\"\n",
    "tokenizer = PegasusTokenizer.from_pretrained(model_orign)\n",
    "model = PegasusForConditionalGeneration.from_pretrained(model_orign).to(device)"
   ]
  },
  {
   "cell_type": "code",
   "execution_count": 111,
   "metadata": {},
   "outputs": [],
   "source": []
  },
  {
   "cell_type": "code",
   "execution_count": 135,
   "metadata": {},
   "outputs": [
    {
     "name": "stderr",
     "output_type": "stream",
     "text": [
      "  0%|          | 16/10081 [00:36<6:26:21,  2.30s/it, BLUE_score: 0.578, TER_score 54.545, ROUGE1_score 0.765, ROUGEL_score 0.765, METEOR_score 0.749,SACREBLUE_score: 57.755]\n"
     ]
    }
   ],
   "source": [
    "progress_bar.close()"
   ]
  },
  {
   "cell_type": "code",
   "execution_count": 134,
   "metadata": {},
   "outputs": [
    {
     "name": "stderr",
     "output_type": "stream",
     "text": [
      "  0%|          | 16/10081 [00:34<6:09:36,  2.20s/it, BLUE_score: 0.578, TER_score 54.545, ROUGE1_score 0.765, ROUGEL_score 0.765, METEOR_score 0.749,SACREBLUE_score: 57.755]"
     ]
    },
    {
     "ename": "KeyboardInterrupt",
     "evalue": "",
     "output_type": "error",
     "traceback": [
      "\u001b[1;31m---------------------------------------------------------------------------\u001b[0m",
      "\u001b[1;31mKeyboardInterrupt\u001b[0m                         Traceback (most recent call last)",
      "\u001b[1;32me:\\THESIS\\EDA\\EDA_model.ipynb Cell 11\u001b[0m line \u001b[0;36m8\n\u001b[0;32m      <a href='vscode-notebook-cell:/e%3A/THESIS/EDA/EDA_model.ipynb#W6sZmlsZQ%3D%3D?line=4'>5</a>\u001b[0m sentence \u001b[39m=\u001b[39m \u001b[39mstr\u001b[39m(sentence)\n\u001b[0;32m      <a href='vscode-notebook-cell:/e%3A/THESIS/EDA/EDA_model.ipynb#W6sZmlsZQ%3D%3D?line=5'>6</a>\u001b[0m batch \u001b[39m=\u001b[39m tokenizer(sentence, truncation\u001b[39m=\u001b[39m\u001b[39mTrue\u001b[39;00m, padding\u001b[39m=\u001b[39m\u001b[39m'\u001b[39m\u001b[39mlongest\u001b[39m\u001b[39m'\u001b[39m,\n\u001b[0;32m      <a href='vscode-notebook-cell:/e%3A/THESIS/EDA/EDA_model.ipynb#W6sZmlsZQ%3D%3D?line=6'>7</a>\u001b[0m                   max_length\u001b[39m=\u001b[39m\u001b[39m100\u001b[39m, return_tensors\u001b[39m=\u001b[39m\u001b[39m\"\u001b[39m\u001b[39mpt\u001b[39m\u001b[39m\"\u001b[39m)\u001b[39m.\u001b[39mto(device)\n\u001b[1;32m----> <a href='vscode-notebook-cell:/e%3A/THESIS/EDA/EDA_model.ipynb#W6sZmlsZQ%3D%3D?line=7'>8</a>\u001b[0m translated \u001b[39m=\u001b[39m model\u001b[39m.\u001b[39mgenerate(\u001b[39m*\u001b[39m\u001b[39m*\u001b[39mbatch, max_length\u001b[39m=\u001b[39m\u001b[39m1024\u001b[39m, num_beams\u001b[39m=\u001b[39m\u001b[39m3\u001b[39m,\n\u001b[0;32m      <a href='vscode-notebook-cell:/e%3A/THESIS/EDA/EDA_model.ipynb#W6sZmlsZQ%3D%3D?line=8'>9</a>\u001b[0m                             num_return_sequences\u001b[39m=\u001b[39m\u001b[39m1\u001b[39m, temperature\u001b[39m=\u001b[39m\u001b[39m1.5\u001b[39m, do_sample\u001b[39m=\u001b[39m\u001b[39mTrue\u001b[39;00m)\n\u001b[0;32m     <a href='vscode-notebook-cell:/e%3A/THESIS/EDA/EDA_model.ipynb#W6sZmlsZQ%3D%3D?line=9'>10</a>\u001b[0m tgt_text \u001b[39m=\u001b[39m tokenizer\u001b[39m.\u001b[39mbatch_decode(translated, skip_special_tokens\u001b[39m=\u001b[39m\u001b[39mTrue\u001b[39;00m)\n\u001b[0;32m     <a href='vscode-notebook-cell:/e%3A/THESIS/EDA/EDA_model.ipynb#W6sZmlsZQ%3D%3D?line=10'>11</a>\u001b[0m BLUE_score, TER_score, ROUGE_score, METEOR_score, SACREBLUE_score \u001b[39m=\u001b[39m \u001b[39meval\u001b[39m(\n\u001b[0;32m     <a href='vscode-notebook-cell:/e%3A/THESIS/EDA/EDA_model.ipynb#W6sZmlsZQ%3D%3D?line=11'>12</a>\u001b[0m     predict_text\u001b[39m=\u001b[39mtgt_text, reference_text\u001b[39m=\u001b[39msentence)\n",
      "File \u001b[1;32me:\\THESIS\\.venv\\lib\\site-packages\\torch\\utils\\_contextlib.py:115\u001b[0m, in \u001b[0;36mcontext_decorator.<locals>.decorate_context\u001b[1;34m(*args, **kwargs)\u001b[0m\n\u001b[0;32m    112\u001b[0m \u001b[39m@functools\u001b[39m\u001b[39m.\u001b[39mwraps(func)\n\u001b[0;32m    113\u001b[0m \u001b[39mdef\u001b[39;00m \u001b[39mdecorate_context\u001b[39m(\u001b[39m*\u001b[39margs, \u001b[39m*\u001b[39m\u001b[39m*\u001b[39mkwargs):\n\u001b[0;32m    114\u001b[0m     \u001b[39mwith\u001b[39;00m ctx_factory():\n\u001b[1;32m--> 115\u001b[0m         \u001b[39mreturn\u001b[39;00m func(\u001b[39m*\u001b[39margs, \u001b[39m*\u001b[39m\u001b[39m*\u001b[39mkwargs)\n",
      "File \u001b[1;32me:\\THESIS\\.venv\\lib\\site-packages\\transformers\\generation\\utils.py:1722\u001b[0m, in \u001b[0;36mGenerationMixin.generate\u001b[1;34m(self, inputs, generation_config, logits_processor, stopping_criteria, prefix_allowed_tokens_fn, synced_gpus, assistant_model, streamer, negative_prompt_ids, negative_prompt_attention_mask, **kwargs)\u001b[0m\n\u001b[0;32m   1714\u001b[0m     input_ids, model_kwargs \u001b[39m=\u001b[39m \u001b[39mself\u001b[39m\u001b[39m.\u001b[39m_expand_inputs_for_generation(\n\u001b[0;32m   1715\u001b[0m         input_ids\u001b[39m=\u001b[39minput_ids,\n\u001b[0;32m   1716\u001b[0m         expand_size\u001b[39m=\u001b[39mgeneration_config\u001b[39m.\u001b[39mnum_beams,\n\u001b[0;32m   1717\u001b[0m         is_encoder_decoder\u001b[39m=\u001b[39m\u001b[39mself\u001b[39m\u001b[39m.\u001b[39mconfig\u001b[39m.\u001b[39mis_encoder_decoder,\n\u001b[0;32m   1718\u001b[0m         \u001b[39m*\u001b[39m\u001b[39m*\u001b[39mmodel_kwargs,\n\u001b[0;32m   1719\u001b[0m     )\n\u001b[0;32m   1721\u001b[0m     \u001b[39m# 14. run beam sample\u001b[39;00m\n\u001b[1;32m-> 1722\u001b[0m     \u001b[39mreturn\u001b[39;00m \u001b[39mself\u001b[39m\u001b[39m.\u001b[39mbeam_sample(\n\u001b[0;32m   1723\u001b[0m         input_ids,\n\u001b[0;32m   1724\u001b[0m         beam_scorer,\n\u001b[0;32m   1725\u001b[0m         logits_processor\u001b[39m=\u001b[39mlogits_processor,\n\u001b[0;32m   1726\u001b[0m         logits_warper\u001b[39m=\u001b[39mlogits_warper,\n\u001b[0;32m   1727\u001b[0m         stopping_criteria\u001b[39m=\u001b[39mstopping_criteria,\n\u001b[0;32m   1728\u001b[0m         pad_token_id\u001b[39m=\u001b[39mgeneration_config\u001b[39m.\u001b[39mpad_token_id,\n\u001b[0;32m   1729\u001b[0m         eos_token_id\u001b[39m=\u001b[39mgeneration_config\u001b[39m.\u001b[39meos_token_id,\n\u001b[0;32m   1730\u001b[0m         output_scores\u001b[39m=\u001b[39mgeneration_config\u001b[39m.\u001b[39moutput_scores,\n\u001b[0;32m   1731\u001b[0m         return_dict_in_generate\u001b[39m=\u001b[39mgeneration_config\u001b[39m.\u001b[39mreturn_dict_in_generate,\n\u001b[0;32m   1732\u001b[0m         synced_gpus\u001b[39m=\u001b[39msynced_gpus,\n\u001b[0;32m   1733\u001b[0m         \u001b[39m*\u001b[39m\u001b[39m*\u001b[39mmodel_kwargs,\n\u001b[0;32m   1734\u001b[0m     )\n\u001b[0;32m   1736\u001b[0m \u001b[39melif\u001b[39;00m generation_mode \u001b[39m==\u001b[39m GenerationMode\u001b[39m.\u001b[39mGROUP_BEAM_SEARCH:\n\u001b[0;32m   1737\u001b[0m     \u001b[39m# 11. prepare beam search scorer\u001b[39;00m\n\u001b[0;32m   1738\u001b[0m     beam_scorer \u001b[39m=\u001b[39m BeamSearchScorer(\n\u001b[0;32m   1739\u001b[0m         batch_size\u001b[39m=\u001b[39mbatch_size,\n\u001b[0;32m   1740\u001b[0m         num_beams\u001b[39m=\u001b[39mgeneration_config\u001b[39m.\u001b[39mnum_beams,\n\u001b[1;32m   (...)\u001b[0m\n\u001b[0;32m   1746\u001b[0m         max_length\u001b[39m=\u001b[39mgeneration_config\u001b[39m.\u001b[39mmax_length,\n\u001b[0;32m   1747\u001b[0m     )\n",
      "File \u001b[1;32me:\\THESIS\\.venv\\lib\\site-packages\\transformers\\generation\\utils.py:3363\u001b[0m, in \u001b[0;36mGenerationMixin.beam_sample\u001b[1;34m(self, input_ids, beam_scorer, logits_processor, stopping_criteria, logits_warper, max_length, pad_token_id, eos_token_id, output_attentions, output_hidden_states, output_scores, return_dict_in_generate, synced_gpus, **model_kwargs)\u001b[0m\n\u001b[0;32m   3359\u001b[0m     \u001b[39mcontinue\u001b[39;00m  \u001b[39m# don't waste resources running the code we don't need\u001b[39;00m\n\u001b[0;32m   3361\u001b[0m next_token_logits \u001b[39m=\u001b[39m outputs\u001b[39m.\u001b[39mlogits[:, \u001b[39m-\u001b[39m\u001b[39m1\u001b[39m, :]\n\u001b[1;32m-> 3363\u001b[0m next_token_scores \u001b[39m=\u001b[39m nn\u001b[39m.\u001b[39;49mfunctional\u001b[39m.\u001b[39;49mlog_softmax(\n\u001b[0;32m   3364\u001b[0m     next_token_logits, dim\u001b[39m=\u001b[39;49m\u001b[39m-\u001b[39;49m\u001b[39m1\u001b[39;49m\n\u001b[0;32m   3365\u001b[0m )  \u001b[39m# (batch_size * num_beams, vocab_size)\u001b[39;00m\n\u001b[0;32m   3367\u001b[0m next_token_scores_processed \u001b[39m=\u001b[39m logits_processor(input_ids, next_token_scores)\n\u001b[0;32m   3368\u001b[0m next_token_scores \u001b[39m=\u001b[39m next_token_scores_processed \u001b[39m+\u001b[39m beam_scores[:, \u001b[39mNone\u001b[39;00m]\u001b[39m.\u001b[39mexpand_as(\n\u001b[0;32m   3369\u001b[0m     next_token_scores_processed\n\u001b[0;32m   3370\u001b[0m )\n",
      "File \u001b[1;32me:\\THESIS\\.venv\\lib\\site-packages\\torch\\nn\\functional.py:1945\u001b[0m, in \u001b[0;36mlog_softmax\u001b[1;34m(input, dim, _stacklevel, dtype)\u001b[0m\n\u001b[0;32m   1943\u001b[0m     dim \u001b[39m=\u001b[39m _get_softmax_dim(\u001b[39m\"\u001b[39m\u001b[39mlog_softmax\u001b[39m\u001b[39m\"\u001b[39m, \u001b[39minput\u001b[39m\u001b[39m.\u001b[39mdim(), _stacklevel)\n\u001b[0;32m   1944\u001b[0m \u001b[39mif\u001b[39;00m dtype \u001b[39mis\u001b[39;00m \u001b[39mNone\u001b[39;00m:\n\u001b[1;32m-> 1945\u001b[0m     ret \u001b[39m=\u001b[39m \u001b[39minput\u001b[39;49m\u001b[39m.\u001b[39;49mlog_softmax(dim)\n\u001b[0;32m   1946\u001b[0m \u001b[39melse\u001b[39;00m:\n\u001b[0;32m   1947\u001b[0m     ret \u001b[39m=\u001b[39m \u001b[39minput\u001b[39m\u001b[39m.\u001b[39mlog_softmax(dim, dtype\u001b[39m=\u001b[39mdtype)\n",
      "\u001b[1;31mKeyboardInterrupt\u001b[0m: "
     ]
    }
   ],
   "source": [
    "progress_bar = tqdm(range(0, len(test_data)))\n",
    "dict_in_dict = {}\n",
    "for i in range(len(test_data)):\n",
    "    sentence = test_data.loc[i, \"#1 String\"]\n",
    "    sentence = str(sentence)\n",
    "    batch = tokenizer(sentence, truncation=True, padding='longest',\n",
    "                      max_length=100, return_tensors=\"pt\").to(device)\n",
    "    translated = model.generate(**batch, max_length=1024, num_beams=3,\n",
    "                                num_return_sequences=1, temperature=1.5, do_sample=True)\n",
    "    tgt_text = tokenizer.batch_decode(translated, skip_special_tokens=True)\n",
    "    BLUE_score, TER_score, ROUGE_score, METEOR_score, SACREBLUE_score = eval(\n",
    "        predict_text=tgt_text, reference_text=sentence)\n",
    "    dict_in_dict[i] = {\n",
    "        \"text\": f\"{sentence}\",\n",
    "        \"parapharse\": f\"{tgt_text[0]}\",\n",
    "        \"BLUE_score\": BLUE_score['bleu'],\n",
    "        \"TER_score\": TER_score['score'],\n",
    "        \"ROUGE1_score\": ROUGE_score['rouge1'],\n",
    "        \"ROUGEL_score\": ROUGE_score['rougeL'],\n",
    "        \"METEOR_score\": METEOR_score['meteor'],\n",
    "        \"SACREBLUE_score\": SACREBLUE_score['score'],\n",
    "    }\n",
    "    progress_bar.update(1)\n",
    "    progress_bar.set_postfix_str(\n",
    "        f\"BLUE_score: {BLUE_score['bleu']:.3f}, TER_score {TER_score['score']:.3f}, ROUGE1_score {ROUGE_score['rouge1']:.3f}, ROUGEL_score {ROUGE_score['rougeL']:.3f}, METEOR_score {METEOR_score['meteor']:.3f},SACREBLUE_score: { SACREBLUE_score['score']:.3f}\", refresh=True)\n",
    "progress_bar.close()"
   ]
  },
  {
   "cell_type": "code",
   "execution_count": 94,
   "metadata": {},
   "outputs": [
    {
     "data": {
      "text/plain": [
       "{1: {'text': 'This was a series of nested angular standards , so that measurements in azimuth and elevation could be done directly in polar coordinates relative to the ecliptic .',\n",
       "  'parapharse': 'This was a series of nested standards, so measurements in azimuth and elevation could be done directly in polar coordinates relative to the ecliptic.',\n",
       "  'BLUE_score': 0.8033867204961556,\n",
       "  'TER_score': 21.428571428571427,\n",
       "  'ROUGE1_score': 0.9600000000000001,\n",
       "  'ROUGEL_score': 0.9600000000000001,\n",
       "  'METEOR_score': 0.9345334383380869,\n",
       "  'SACREBLUE_score': 80.3386720496156},\n",
       " 2: {'text': 'His father emigrated to Missouri in 1868 but returned when his wife became ill and before the rest of the family could also go to America .',\n",
       "  'parapharse': 'His father emigrated to Missouri in 1868, but returned when his wife became ill and the rest of the family could also leave America.',\n",
       "  'BLUE_score': 0.6988909238965656,\n",
       "  'TER_score': 22.22222222222222,\n",
       "  'ROUGE1_score': 0.9199999999999999,\n",
       "  'ROUGEL_score': 0.9199999999999999,\n",
       "  'METEOR_score': 0.8852230483271374,\n",
       "  'SACREBLUE_score': 69.88909238965658},\n",
       " 3: {'text': 'In January 2011 , the Deputy Secretary General of FIBA Asia , Hagop Khajirian , inspected the venue together with SBP - President Manuel V. Pangilinan .',\n",
       "  'parapharse': 'In January 2011, the Deputy Secretary General of FIBA Asia Hagop Khajirian inspected the venue, along with SBP President Manuel V. Pangilinan.',\n",
       "  'BLUE_score': 0.6222045837119548,\n",
       "  'TER_score': 33.33333333333333,\n",
       "  'ROUGE1_score': 0.9545454545454546,\n",
       "  'ROUGEL_score': 0.9545454545454546,\n",
       "  'METEOR_score': 0.87893864013267,\n",
       "  'SACREBLUE_score': 62.220458371195484},\n",
       " 4: {'text': 'Steiner argued that , in the right circumstances , the spiritual world can be explored through direct experience by practicing ethical and cognitive forms of rigorous self-discipline .',\n",
       "  'parapharse': 'Steiner argued that in the right circumstances, the spiritual world can be explored through direct experience by practicing ethical and cognitive forms of rigorously self-discipline.',\n",
       "  'BLUE_score': 0.8147865470559416,\n",
       "  'TER_score': 21.428571428571427,\n",
       "  'ROUGE1_score': 0.9615384615384616,\n",
       "  'ROUGEL_score': 0.9615384615384616,\n",
       "  'METEOR_score': 0.9675452699480311,\n",
       "  'SACREBLUE_score': 81.47865470559415},\n",
       " 5: {'text': 'Luciano Williames Dias ( born July 25 , 1970 ) is a Brazilian football coach and former player .',\n",
       "  'parapharse': 'Luciano Williames Dias ( born July 25, 1970 ) is a Brazilian football coach and former player.',\n",
       "  'BLUE_score': 1.0,\n",
       "  'TER_score': 21.052631578947366,\n",
       "  'ROUGE1_score': 1.0,\n",
       "  'ROUGEL_score': 1.0,\n",
       "  'METEOR_score': 0.9999271030762502,\n",
       "  'SACREBLUE_score': 100.00000000000004},\n",
       " 6: {'text': 'During her sophomore , junior and senior summers , she spent half of it with her Alaska team , and half playing , and living in Oregon .',\n",
       "  'parapharse': 'During her senior, junior and junior summers she spent half of it with her Alaska team and half playing and living in Oregon.',\n",
       "  'BLUE_score': 0.5315474871509519,\n",
       "  'TER_score': 28.57142857142857,\n",
       "  'ROUGE1_score': 0.9565217391304348,\n",
       "  'ROUGEL_score': 0.9130434782608695,\n",
       "  'METEOR_score': 0.8435807761732851,\n",
       "  'SACREBLUE_score': 53.15474871509515},\n",
       " 7: {'text': 'The smallest number that can be represented in two positive and seventh ways as a sum of four different powers is 2056364173794800 .',\n",
       "  'parapharse': 'The smallest number that can be represented in two positive and seventh ways as a sum of four different powers is 2064563792.',\n",
       "  'BLUE_score': 0.9173176373893104,\n",
       "  'TER_score': 8.695652173913043,\n",
       "  'ROUGE1_score': 0.9545454545454546,\n",
       "  'ROUGEL_score': 0.9545454545454546,\n",
       "  'METEOR_score': 0.9561624146604384,\n",
       "  'SACREBLUE_score': 91.73176373893106},\n",
       " 8: {'text': 'His father emigrated to Missouri in 1868 , but returned when his wife became ill and before the rest of the family could go to America .',\n",
       "  'parapharse': 'In 1868, his father emigrated to Missouri, but returned when his wife became ill and before the rest of the family could leave America.',\n",
       "  'BLUE_score': 0.703281789120764,\n",
       "  'TER_score': 33.33333333333333,\n",
       "  'ROUGE1_score': 0.9387755102040817,\n",
       "  'ROUGEL_score': 0.8571428571428572,\n",
       "  'METEOR_score': 0.9195259259259259,\n",
       "  'SACREBLUE_score': 70.32817891207638},\n",
       " 9: {'text': 'The Villa Pesquera facilities are owned by the Municipality of Ponce , but operated by the fishermen themselves .',\n",
       "  'parapharse': 'Villa Pesquera facilities are owned by the municipality of Ponce, but are operated by the fishermen themselves.',\n",
       "  'BLUE_score': 0.6888365053466561,\n",
       "  'TER_score': 31.57894736842105,\n",
       "  'ROUGE1_score': 0.9411764705882353,\n",
       "  'ROUGEL_score': 0.9411764705882353,\n",
       "  'METEOR_score': 0.9421702404158544,\n",
       "  'SACREBLUE_score': 68.8836505346656},\n",
       " 10: {'text': 'It is situated south of Köroğlu Mountains and to the north of Bolu .',\n",
       "  'parapharse': 'It is located south of the Krolu Mountains and north of Bolu.',\n",
       "  'BLUE_score': 0.2742249046102379,\n",
       "  'TER_score': 42.857142857142854,\n",
       "  'ROUGE1_score': 0.7407407407407408,\n",
       "  'ROUGEL_score': 0.6666666666666665,\n",
       "  'METEOR_score': 0.754206552113681,\n",
       "  'SACREBLUE_score': 27.422490461023802}}"
      ]
     },
     "execution_count": 94,
     "metadata": {},
     "output_type": "execute_result"
    }
   ],
   "source": [
    "dict_in_dict"
   ]
  },
  {
   "cell_type": "code",
   "execution_count": 98,
   "metadata": {},
   "outputs": [
    {
     "data": {
      "text/html": [
       "<div>\n",
       "<style scoped>\n",
       "    .dataframe tbody tr th:only-of-type {\n",
       "        vertical-align: middle;\n",
       "    }\n",
       "\n",
       "    .dataframe tbody tr th {\n",
       "        vertical-align: top;\n",
       "    }\n",
       "\n",
       "    .dataframe thead th {\n",
       "        text-align: right;\n",
       "    }\n",
       "</style>\n",
       "<table border=\"1\" class=\"dataframe\">\n",
       "  <thead>\n",
       "    <tr style=\"text-align: right;\">\n",
       "      <th></th>\n",
       "    </tr>\n",
       "  </thead>\n",
       "  <tbody>\n",
       "  </tbody>\n",
       "</table>\n",
       "</div>"
      ],
      "text/plain": [
       "Empty DataFrame\n",
       "Columns: []\n",
       "Index: []"
      ]
     },
     "execution_count": 98,
     "metadata": {},
     "output_type": "execute_result"
    }
   ],
   "source": []
  },
  {
   "cell_type": "code",
   "execution_count": 104,
   "metadata": {},
   "outputs": [
    {
     "name": "stdout",
     "output_type": "stream",
     "text": [
      "                                                text  \\\n",
      "0  This was a series of nested angular standards ...   \n",
      "1  His father emigrated to Missouri in 1868 but r...   \n",
      "2  In January 2011 , the Deputy Secretary General...   \n",
      "3  Steiner argued that , in the right circumstanc...   \n",
      "4  Luciano Williames Dias ( born July 25 , 1970 )...   \n",
      "5  During her sophomore , junior and senior summe...   \n",
      "6  The smallest number that can be represented in...   \n",
      "7  His father emigrated to Missouri in 1868 , but...   \n",
      "8  The Villa Pesquera facilities are owned by the...   \n",
      "9  It is situated south of Köroğlu Mountains and ...   \n",
      "\n",
      "                                          paraphrase  BLUE_score  TER_score  \\\n",
      "0  This was a series of nested standards, so meas...    0.803387  21.428571   \n",
      "1  His father emigrated to Missouri in 1868, but ...    0.698891  22.222222   \n",
      "2  In January 2011, the Deputy Secretary General ...    0.622205  33.333333   \n",
      "3  Steiner argued that in the right circumstances...    0.814787  21.428571   \n",
      "4  Luciano Williames Dias ( born July 25, 1970 ) ...    1.000000  21.052632   \n",
      "5  During her senior, junior and junior summers s...    0.531547  28.571429   \n",
      "6  The smallest number that can be represented in...    0.917318   8.695652   \n",
      "7  In 1868, his father emigrated to Missouri, but...    0.703282  33.333333   \n",
      "8  Villa Pesquera facilities are owned by the mun...    0.688837  31.578947   \n",
      "9  It is located south of the Krolu Mountains and...    0.274225  42.857143   \n",
      "\n",
      "   ROUGE1_score  ROUGEL_score  METEOR_score  SACREBLUE_score  \n",
      "0      0.960000      0.960000      0.934533        80.338672  \n",
      "1      0.920000      0.920000      0.885223        69.889092  \n",
      "2      0.954545      0.954545      0.878939        62.220458  \n",
      "3      0.961538      0.961538      0.967545        81.478655  \n",
      "4      1.000000      1.000000      0.999927       100.000000  \n",
      "5      0.956522      0.913043      0.843581        53.154749  \n",
      "6      0.954545      0.954545      0.956162        91.731764  \n",
      "7      0.938776      0.857143      0.919526        70.328179  \n",
      "8      0.941176      0.941176      0.942170        68.883651  \n",
      "9      0.740741      0.666667      0.754207        27.422490  \n"
     ]
    }
   ],
   "source": [
    "import pandas as pd\n",
    "\n",
    "# Create an empty list to store the data\n",
    "data = []\n",
    "\n",
    "# Iterate over the nested dictionary\n",
    "for key, value in dict_in_dict.items():\n",
    "    # Extract the relevant data from the dictionary value\n",
    "    text = value['text']\n",
    "    paraphrase = value['parapharse']\n",
    "    BLUE_score = value['BLUE_score']\n",
    "    TER_score = value['TER_score']\n",
    "    ROUGE1_score = value['ROUGE1_score']\n",
    "    ROUGEL_score = value['ROUGEL_score']\n",
    "    METEOR_score = value['METEOR_score']\n",
    "    SACREBLUE_score = value['SACREBLUE_score']\n",
    "\n",
    "    # Create a dictionary with the extracted data\n",
    "    data_row = {\n",
    "        'text': text,\n",
    "        'paraphrase': paraphrase,\n",
    "        'BLUE_score': BLUE_score,\n",
    "        'TER_score': TER_score,\n",
    "        'ROUGE1_score': ROUGE1_score,\n",
    "        'ROUGEL_score': ROUGEL_score,\n",
    "        'METEOR_score': METEOR_score,\n",
    "        'SACREBLUE_score': SACREBLUE_score\n",
    "    }\n",
    "\n",
    "    # Append the dictionary to the list\n",
    "    data.append(data_row)\n",
    "\n",
    "# Convert the list to a DataFrame\n",
    "df = pd.DataFrame(data)\n",
    "\n",
    "# Print the DataFrame\n",
    "print(df)\n"
   ]
  },
  {
   "cell_type": "code",
   "execution_count": 105,
   "metadata": {},
   "outputs": [
    {
     "data": {
      "text/html": [
       "<div>\n",
       "<style scoped>\n",
       "    .dataframe tbody tr th:only-of-type {\n",
       "        vertical-align: middle;\n",
       "    }\n",
       "\n",
       "    .dataframe tbody tr th {\n",
       "        vertical-align: top;\n",
       "    }\n",
       "\n",
       "    .dataframe thead th {\n",
       "        text-align: right;\n",
       "    }\n",
       "</style>\n",
       "<table border=\"1\" class=\"dataframe\">\n",
       "  <thead>\n",
       "    <tr style=\"text-align: right;\">\n",
       "      <th></th>\n",
       "      <th>text</th>\n",
       "      <th>paraphrase</th>\n",
       "      <th>BLUE_score</th>\n",
       "      <th>TER_score</th>\n",
       "      <th>ROUGE1_score</th>\n",
       "      <th>ROUGEL_score</th>\n",
       "      <th>METEOR_score</th>\n",
       "      <th>SACREBLUE_score</th>\n",
       "    </tr>\n",
       "  </thead>\n",
       "  <tbody>\n",
       "    <tr>\n",
       "      <th>0</th>\n",
       "      <td>This was a series of nested angular standards ...</td>\n",
       "      <td>This was a series of nested standards, so meas...</td>\n",
       "      <td>0.803387</td>\n",
       "      <td>21.428571</td>\n",
       "      <td>0.960000</td>\n",
       "      <td>0.960000</td>\n",
       "      <td>0.934533</td>\n",
       "      <td>80.338672</td>\n",
       "    </tr>\n",
       "    <tr>\n",
       "      <th>1</th>\n",
       "      <td>His father emigrated to Missouri in 1868 but r...</td>\n",
       "      <td>His father emigrated to Missouri in 1868, but ...</td>\n",
       "      <td>0.698891</td>\n",
       "      <td>22.222222</td>\n",
       "      <td>0.920000</td>\n",
       "      <td>0.920000</td>\n",
       "      <td>0.885223</td>\n",
       "      <td>69.889092</td>\n",
       "    </tr>\n",
       "    <tr>\n",
       "      <th>2</th>\n",
       "      <td>In January 2011 , the Deputy Secretary General...</td>\n",
       "      <td>In January 2011, the Deputy Secretary General ...</td>\n",
       "      <td>0.622205</td>\n",
       "      <td>33.333333</td>\n",
       "      <td>0.954545</td>\n",
       "      <td>0.954545</td>\n",
       "      <td>0.878939</td>\n",
       "      <td>62.220458</td>\n",
       "    </tr>\n",
       "    <tr>\n",
       "      <th>3</th>\n",
       "      <td>Steiner argued that , in the right circumstanc...</td>\n",
       "      <td>Steiner argued that in the right circumstances...</td>\n",
       "      <td>0.814787</td>\n",
       "      <td>21.428571</td>\n",
       "      <td>0.961538</td>\n",
       "      <td>0.961538</td>\n",
       "      <td>0.967545</td>\n",
       "      <td>81.478655</td>\n",
       "    </tr>\n",
       "    <tr>\n",
       "      <th>4</th>\n",
       "      <td>Luciano Williames Dias ( born July 25 , 1970 )...</td>\n",
       "      <td>Luciano Williames Dias ( born July 25, 1970 ) ...</td>\n",
       "      <td>1.000000</td>\n",
       "      <td>21.052632</td>\n",
       "      <td>1.000000</td>\n",
       "      <td>1.000000</td>\n",
       "      <td>0.999927</td>\n",
       "      <td>100.000000</td>\n",
       "    </tr>\n",
       "    <tr>\n",
       "      <th>5</th>\n",
       "      <td>During her sophomore , junior and senior summe...</td>\n",
       "      <td>During her senior, junior and junior summers s...</td>\n",
       "      <td>0.531547</td>\n",
       "      <td>28.571429</td>\n",
       "      <td>0.956522</td>\n",
       "      <td>0.913043</td>\n",
       "      <td>0.843581</td>\n",
       "      <td>53.154749</td>\n",
       "    </tr>\n",
       "    <tr>\n",
       "      <th>6</th>\n",
       "      <td>The smallest number that can be represented in...</td>\n",
       "      <td>The smallest number that can be represented in...</td>\n",
       "      <td>0.917318</td>\n",
       "      <td>8.695652</td>\n",
       "      <td>0.954545</td>\n",
       "      <td>0.954545</td>\n",
       "      <td>0.956162</td>\n",
       "      <td>91.731764</td>\n",
       "    </tr>\n",
       "    <tr>\n",
       "      <th>7</th>\n",
       "      <td>His father emigrated to Missouri in 1868 , but...</td>\n",
       "      <td>In 1868, his father emigrated to Missouri, but...</td>\n",
       "      <td>0.703282</td>\n",
       "      <td>33.333333</td>\n",
       "      <td>0.938776</td>\n",
       "      <td>0.857143</td>\n",
       "      <td>0.919526</td>\n",
       "      <td>70.328179</td>\n",
       "    </tr>\n",
       "    <tr>\n",
       "      <th>8</th>\n",
       "      <td>The Villa Pesquera facilities are owned by the...</td>\n",
       "      <td>Villa Pesquera facilities are owned by the mun...</td>\n",
       "      <td>0.688837</td>\n",
       "      <td>31.578947</td>\n",
       "      <td>0.941176</td>\n",
       "      <td>0.941176</td>\n",
       "      <td>0.942170</td>\n",
       "      <td>68.883651</td>\n",
       "    </tr>\n",
       "    <tr>\n",
       "      <th>9</th>\n",
       "      <td>It is situated south of Köroğlu Mountains and ...</td>\n",
       "      <td>It is located south of the Krolu Mountains and...</td>\n",
       "      <td>0.274225</td>\n",
       "      <td>42.857143</td>\n",
       "      <td>0.740741</td>\n",
       "      <td>0.666667</td>\n",
       "      <td>0.754207</td>\n",
       "      <td>27.422490</td>\n",
       "    </tr>\n",
       "  </tbody>\n",
       "</table>\n",
       "</div>"
      ],
      "text/plain": [
       "                                                text  \\\n",
       "0  This was a series of nested angular standards ...   \n",
       "1  His father emigrated to Missouri in 1868 but r...   \n",
       "2  In January 2011 , the Deputy Secretary General...   \n",
       "3  Steiner argued that , in the right circumstanc...   \n",
       "4  Luciano Williames Dias ( born July 25 , 1970 )...   \n",
       "5  During her sophomore , junior and senior summe...   \n",
       "6  The smallest number that can be represented in...   \n",
       "7  His father emigrated to Missouri in 1868 , but...   \n",
       "8  The Villa Pesquera facilities are owned by the...   \n",
       "9  It is situated south of Köroğlu Mountains and ...   \n",
       "\n",
       "                                          paraphrase  BLUE_score  TER_score  \\\n",
       "0  This was a series of nested standards, so meas...    0.803387  21.428571   \n",
       "1  His father emigrated to Missouri in 1868, but ...    0.698891  22.222222   \n",
       "2  In January 2011, the Deputy Secretary General ...    0.622205  33.333333   \n",
       "3  Steiner argued that in the right circumstances...    0.814787  21.428571   \n",
       "4  Luciano Williames Dias ( born July 25, 1970 ) ...    1.000000  21.052632   \n",
       "5  During her senior, junior and junior summers s...    0.531547  28.571429   \n",
       "6  The smallest number that can be represented in...    0.917318   8.695652   \n",
       "7  In 1868, his father emigrated to Missouri, but...    0.703282  33.333333   \n",
       "8  Villa Pesquera facilities are owned by the mun...    0.688837  31.578947   \n",
       "9  It is located south of the Krolu Mountains and...    0.274225  42.857143   \n",
       "\n",
       "   ROUGE1_score  ROUGEL_score  METEOR_score  SACREBLUE_score  \n",
       "0      0.960000      0.960000      0.934533        80.338672  \n",
       "1      0.920000      0.920000      0.885223        69.889092  \n",
       "2      0.954545      0.954545      0.878939        62.220458  \n",
       "3      0.961538      0.961538      0.967545        81.478655  \n",
       "4      1.000000      1.000000      0.999927       100.000000  \n",
       "5      0.956522      0.913043      0.843581        53.154749  \n",
       "6      0.954545      0.954545      0.956162        91.731764  \n",
       "7      0.938776      0.857143      0.919526        70.328179  \n",
       "8      0.941176      0.941176      0.942170        68.883651  \n",
       "9      0.740741      0.666667      0.754207        27.422490  "
      ]
     },
     "execution_count": 105,
     "metadata": {},
     "output_type": "execute_result"
    }
   ],
   "source": [
    "df.to_csv('EDA_model_ThanhJamieAI8E4B', index=False)"
   ]
  },
  {
   "cell_type": "markdown",
   "metadata": {},
   "source": [
    "## T5 Model"
   ]
  },
  {
   "cell_type": "code",
   "execution_count": 136,
   "metadata": {},
   "outputs": [
    {
     "data": {
      "application/vnd.jupyter.widget-view+json": {
       "model_id": "bc21ff3fb785499f855a91b258d136a8",
       "version_major": 2,
       "version_minor": 0
      },
      "text/plain": [
       "Downloading tokenizer_config.json:   0%|          | 0.00/1.89k [00:00<?, ?B/s]"
      ]
     },
     "metadata": {},
     "output_type": "display_data"
    },
    {
     "data": {
      "application/vnd.jupyter.widget-view+json": {
       "model_id": "1184740509274653b5cd9b5ff55cae76",
       "version_major": 2,
       "version_minor": 0
      },
      "text/plain": [
       "Downloading config.json:   0%|          | 0.00/1.37k [00:00<?, ?B/s]"
      ]
     },
     "metadata": {},
     "output_type": "display_data"
    },
    {
     "data": {
      "application/vnd.jupyter.widget-view+json": {
       "model_id": "a6ba50a6c9ac4bc7becbcaa7b5c3cb6b",
       "version_major": 2,
       "version_minor": 0
      },
      "text/plain": [
       "Downloading spiece.model:   0%|          | 0.00/792k [00:00<?, ?B/s]"
      ]
     },
     "metadata": {},
     "output_type": "display_data"
    },
    {
     "data": {
      "application/vnd.jupyter.widget-view+json": {
       "model_id": "90b42d816dee4c3aa16b5c81d90249e7",
       "version_major": 2,
       "version_minor": 0
      },
      "text/plain": [
       "Downloading (…)cial_tokens_map.json:   0%|          | 0.00/1.79k [00:00<?, ?B/s]"
      ]
     },
     "metadata": {},
     "output_type": "display_data"
    },
    {
     "name": "stderr",
     "output_type": "stream",
     "text": [
      "You are using the default legacy behaviour of the <class 'transformers.models.t5.tokenization_t5.T5Tokenizer'>. This is expected, and simply means that the `legacy` (previous) behavior will be used so nothing changes for you. If you want to use the new behaviour, set `legacy=False`. This should only be set if you understand what it means, and thouroughly read the reason why this was added as explained in https://github.com/huggingface/transformers/pull/24565\n"
     ]
    },
    {
     "data": {
      "application/vnd.jupyter.widget-view+json": {
       "model_id": "3f84b1c50932471eae91eb4291d58c5a",
       "version_major": 2,
       "version_minor": 0
      },
      "text/plain": [
       "Downloading pytorch_model.bin:   0%|          | 0.00/892M [00:00<?, ?B/s]"
      ]
     },
     "metadata": {},
     "output_type": "display_data"
    },
    {
     "data": {
      "application/vnd.jupyter.widget-view+json": {
       "model_id": "c0b83f7681d74972836992845f8e8f21",
       "version_major": 2,
       "version_minor": 0
      },
      "text/plain": [
       "Downloading config.json:   0%|          | 0.00/913 [00:00<?, ?B/s]"
      ]
     },
     "metadata": {},
     "output_type": "display_data"
    },
    {
     "data": {
      "application/vnd.jupyter.widget-view+json": {
       "model_id": "4662cf1b023345b5826c29d7829fc88d",
       "version_major": 2,
       "version_minor": 0
      },
      "text/plain": [
       "Downloading pytorch_model.bin:   0%|          | 0.00/1.42G [00:00<?, ?B/s]"
      ]
     },
     "metadata": {},
     "output_type": "display_data"
    },
    {
     "data": {
      "application/vnd.jupyter.widget-view+json": {
       "model_id": "a60a4b44c83a4b2f80ec72c929358e69",
       "version_major": 2,
       "version_minor": 0
      },
      "text/plain": [
       "Downloading vocab.json:   0%|          | 0.00/899k [00:00<?, ?B/s]"
      ]
     },
     "metadata": {},
     "output_type": "display_data"
    },
    {
     "data": {
      "application/vnd.jupyter.widget-view+json": {
       "model_id": "6fed3d5469ce498d8e8fac582cbfd6f8",
       "version_major": 2,
       "version_minor": 0
      },
      "text/plain": [
       "Downloading merges.txt:   0%|          | 0.00/456k [00:00<?, ?B/s]"
      ]
     },
     "metadata": {},
     "output_type": "display_data"
    },
    {
     "data": {
      "application/vnd.jupyter.widget-view+json": {
       "model_id": "bac68a4fbfc54c5db53bc0c4edf5e94f",
       "version_major": 2,
       "version_minor": 0
      },
      "text/plain": [
       "Downloading tokenizer.json:   0%|          | 0.00/1.36M [00:00<?, ?B/s]"
      ]
     },
     "metadata": {},
     "output_type": "display_data"
    },
    {
     "data": {
      "application/vnd.jupyter.widget-view+json": {
       "model_id": "7601f2133d7a45a18a9fabee135a151a",
       "version_major": 2,
       "version_minor": 0
      },
      "text/plain": [
       "Downloading (…)cial_tokens_map.json:   0%|          | 0.00/772 [00:00<?, ?B/s]"
      ]
     },
     "metadata": {},
     "output_type": "display_data"
    },
    {
     "data": {
      "application/vnd.jupyter.widget-view+json": {
       "model_id": "e614d4797d4a4fcc8c9a9ed6cb4628cf",
       "version_major": 2,
       "version_minor": 0
      },
      "text/plain": [
       "Downloading config.json:   0%|          | 0.00/476 [00:00<?, ?B/s]"
      ]
     },
     "metadata": {},
     "output_type": "display_data"
    },
    {
     "data": {
      "application/vnd.jupyter.widget-view+json": {
       "model_id": "0b4357283b884a19a03738a87a773a32",
       "version_major": 2,
       "version_minor": 0
      },
      "text/plain": [
       "Downloading pytorch_model.bin:   0%|          | 0.00/438M [00:00<?, ?B/s]"
      ]
     },
     "metadata": {},
     "output_type": "display_data"
    },
    {
     "data": {
      "application/vnd.jupyter.widget-view+json": {
       "model_id": "31ae6b2b5bad46f2b7b2852a4d1e9cba",
       "version_major": 2,
       "version_minor": 0
      },
      "text/plain": [
       "Downloading tokenizer_config.json:   0%|          | 0.00/48.0 [00:00<?, ?B/s]"
      ]
     },
     "metadata": {},
     "output_type": "display_data"
    },
    {
     "data": {
      "application/vnd.jupyter.widget-view+json": {
       "model_id": "22c8b1e080984efa8c1c81e99fa4a5a6",
       "version_major": 2,
       "version_minor": 0
      },
      "text/plain": [
       "Downloading vocab.txt:   0%|          | 0.00/232k [00:00<?, ?B/s]"
      ]
     },
     "metadata": {},
     "output_type": "display_data"
    },
    {
     "data": {
      "application/vnd.jupyter.widget-view+json": {
       "model_id": "0a79f23e06674f7da8f5a7a9d83b22ad",
       "version_major": 2,
       "version_minor": 0
      },
      "text/plain": [
       "Downloading (…)cial_tokens_map.json:   0%|          | 0.00/112 [00:00<?, ?B/s]"
      ]
     },
     "metadata": {},
     "output_type": "display_data"
    },
    {
     "data": {
      "application/vnd.jupyter.widget-view+json": {
       "model_id": "32a89fb427aa450c95991750c252bfdf",
       "version_major": 2,
       "version_minor": 0
      },
      "text/plain": [
       "Downloading .gitattributes:   0%|          | 0.00/736 [00:00<?, ?B/s]"
      ]
     },
     "metadata": {},
     "output_type": "display_data"
    },
    {
     "data": {
      "application/vnd.jupyter.widget-view+json": {
       "model_id": "f8c2229e2e9847e8a4f83ed31301b5a5",
       "version_major": 2,
       "version_minor": 0
      },
      "text/plain": [
       "Downloading 1_Pooling/config.json:   0%|          | 0.00/190 [00:00<?, ?B/s]"
      ]
     },
     "metadata": {},
     "output_type": "display_data"
    },
    {
     "data": {
      "application/vnd.jupyter.widget-view+json": {
       "model_id": "b32d8461e2ac4c48ac39e270fda21fe5",
       "version_major": 2,
       "version_minor": 0
      },
      "text/plain": [
       "Downloading README.md:   0%|          | 0.00/3.74k [00:00<?, ?B/s]"
      ]
     },
     "metadata": {},
     "output_type": "display_data"
    },
    {
     "data": {
      "application/vnd.jupyter.widget-view+json": {
       "model_id": "5cff4d879fbb4390a13835632cdef281",
       "version_major": 2,
       "version_minor": 0
      },
      "text/plain": [
       "Downloading config.json:   0%|          | 0.00/686 [00:00<?, ?B/s]"
      ]
     },
     "metadata": {},
     "output_type": "display_data"
    },
    {
     "data": {
      "application/vnd.jupyter.widget-view+json": {
       "model_id": "9be1a4fe1a5a464fb7aafad8835e3a5b",
       "version_major": 2,
       "version_minor": 0
      },
      "text/plain": [
       "Downloading (…)ce_transformers.json:   0%|          | 0.00/122 [00:00<?, ?B/s]"
      ]
     },
     "metadata": {},
     "output_type": "display_data"
    },
    {
     "data": {
      "application/vnd.jupyter.widget-view+json": {
       "model_id": "cc8eea340fde4069b28bac24c88a1294",
       "version_major": 2,
       "version_minor": 0
      },
      "text/plain": [
       "Downloading merges.txt:   0%|          | 0.00/456k [00:00<?, ?B/s]"
      ]
     },
     "metadata": {},
     "output_type": "display_data"
    },
    {
     "data": {
      "application/vnd.jupyter.widget-view+json": {
       "model_id": "a453c01aa18a4b2c857bbb3d6e9f3b93",
       "version_major": 2,
       "version_minor": 0
      },
      "text/plain": [
       "Downloading pytorch_model.bin:   0%|          | 0.00/329M [00:00<?, ?B/s]"
      ]
     },
     "metadata": {},
     "output_type": "display_data"
    },
    {
     "data": {
      "application/vnd.jupyter.widget-view+json": {
       "model_id": "b71712ec58d64b859f50c7c23d59d343",
       "version_major": 2,
       "version_minor": 0
      },
      "text/plain": [
       "Downloading (…)nce_bert_config.json:   0%|          | 0.00/53.0 [00:00<?, ?B/s]"
      ]
     },
     "metadata": {},
     "output_type": "display_data"
    },
    {
     "data": {
      "application/vnd.jupyter.widget-view+json": {
       "model_id": "ab85d2d6fa524c2d9b4dcb125a98e975",
       "version_major": 2,
       "version_minor": 0
      },
      "text/plain": [
       "Downloading (…)cial_tokens_map.json:   0%|          | 0.00/239 [00:00<?, ?B/s]"
      ]
     },
     "metadata": {},
     "output_type": "display_data"
    },
    {
     "data": {
      "application/vnd.jupyter.widget-view+json": {
       "model_id": "b6b4835e3da44ce1896e5ac7a0fae5e7",
       "version_major": 2,
       "version_minor": 0
      },
      "text/plain": [
       "Downloading tokenizer.json:   0%|          | 0.00/1.36M [00:00<?, ?B/s]"
      ]
     },
     "metadata": {},
     "output_type": "display_data"
    },
    {
     "data": {
      "application/vnd.jupyter.widget-view+json": {
       "model_id": "e2a28c4ef0b3496ea0fb181601652236",
       "version_major": 2,
       "version_minor": 0
      },
      "text/plain": [
       "Downloading tokenizer_config.json:   0%|          | 0.00/1.12k [00:00<?, ?B/s]"
      ]
     },
     "metadata": {},
     "output_type": "display_data"
    },
    {
     "data": {
      "application/vnd.jupyter.widget-view+json": {
       "model_id": "3d4ef0d172984030bb5365bebb7a51bd",
       "version_major": 2,
       "version_minor": 0
      },
      "text/plain": [
       "Downloading vocab.json:   0%|          | 0.00/798k [00:00<?, ?B/s]"
      ]
     },
     "metadata": {},
     "output_type": "display_data"
    },
    {
     "data": {
      "application/vnd.jupyter.widget-view+json": {
       "model_id": "17706553390040778dd712fb77053dd4",
       "version_major": 2,
       "version_minor": 0
      },
      "text/plain": [
       "Downloading modules.json:   0%|          | 0.00/229 [00:00<?, ?B/s]"
      ]
     },
     "metadata": {},
     "output_type": "display_data"
    },
    {
     "name": "stdout",
     "output_type": "stream",
     "text": [
      "----------------------------------------------------------------------------------------------------\n",
      "Input_phrase:  Can you recommed some upscale restaurants in Newyork?\n",
      "----------------------------------------------------------------------------------------------------\n",
      "('can you recommend some high end restaurants in new york?', 22)\n",
      "('can you recommend some of the upscale restaurants in new york?', 21)\n",
      "('can you recommend some luxury restaurants in new york?', 21)\n",
      "('can you recommend some best upscale restaurants in new york?', 19)\n",
      "('can you recommend some upscale restaurants in new york?', 14)\n",
      "('can you recommend some upscale restaurants in newyork?', 13)\n"
     ]
    }
   ],
   "source": [
    "\n",
    "\n",
    "from parrot import Parrot\n",
    "import torch\n",
    "import warnings\n",
    "warnings.filterwarnings(\"ignore\")\n",
    "\n",
    "''' \n",
    "uncomment to get reproducable paraphrase generations\n",
    "def random_state(seed):\n",
    "  torch.manual_seed(seed)\n",
    "  if torch.cuda.is_available():\n",
    "    torch.cuda.manual_seed_all(seed)\n",
    "\n",
    "random_state(1234)\n",
    "'''\n",
    "\n",
    "#Init models (make sure you init ONLY once if you integrate this to your code)\n",
    "parrot = Parrot(model_tag=\"prithivida/parrot_paraphraser_on_T5\", use_gpu=False)\n",
    "\n",
    "phrases = [\"Can you recommed some upscale restaurants in Newyork?\"]\n",
    "\n",
    "for phrase in phrases:\n",
    "  print(\"-\"*100)\n",
    "  print(\"Input_phrase: \", phrase)\n",
    "  print(\"-\"*100)\n",
    "  para_phrases = parrot.augment(input_phrase=phrase)\n",
    "  for para_phrase in para_phrases:\n",
    "   print(para_phrase)\n"
   ]
  },
  {
   "cell_type": "code",
   "execution_count": 138,
   "metadata": {},
   "outputs": [],
   "source": [
    "test = \"Can you recommed some upscale restaurants in Newyork?\""
   ]
  },
  {
   "cell_type": "code",
   "execution_count": 156,
   "metadata": {},
   "outputs": [],
   "source": [
    "para_phrases = parrot.augment(input_phrase=phrase, \n",
    "                               diversity_ranker=\"levenshtein\",\n",
    "                               do_diverse=False, \n",
    "                               max_return_phrases = 1, \n",
    "                               max_length=32, \n",
    "                               adequacy_threshold = 0.5, \n",
    "                               fluency_threshold = 0.5)"
   ]
  },
  {
   "cell_type": "code",
   "execution_count": 167,
   "metadata": {},
   "outputs": [
    {
     "data": {
      "text/plain": [
       "'recommend some of the best and expensive restaurants in new york?'"
      ]
     },
     "execution_count": 167,
     "metadata": {},
     "output_type": "execute_result"
    }
   ],
   "source": [
    "str(para_phrases[0][0])"
   ]
  },
  {
   "cell_type": "code",
   "execution_count": 168,
   "metadata": {},
   "outputs": [
    {
     "name": "stdout",
     "output_type": "stream",
     "text": [
      "recommend some of the best and expensive restaurants in new york?\n"
     ]
    }
   ],
   "source": [
    "print(para_phrases[0][0])"
   ]
  },
  {
   "cell_type": "code",
   "execution_count": 182,
   "metadata": {},
   "outputs": [],
   "source": [
    "progress_bar.close()"
   ]
  },
  {
   "cell_type": "code",
   "execution_count": 186,
   "metadata": {},
   "outputs": [
    {
     "name": "stderr",
     "output_type": "stream",
     "text": [
      " 90%|█████████ | 9/10 [00:20<00:02,  2.32s/it, BLUE_score: 0.293, TER_score 35.714, ROUGE1_score 0.774, ROUGEL_score 0.774, METEOR_score 0.838,SACREBLUE_score: 29.347]"
     ]
    },
    {
     "name": "stdout",
     "output_type": "stream",
     "text": [
      "!!!Done!!!\n"
     ]
    },
    {
     "name": "stderr",
     "output_type": "stream",
     "text": [
      "\n"
     ]
    }
   ],
   "source": [
    "progress_bar = tqdm(range(0, len(test_data)))\n",
    "dict_in_dict = {}\n",
    "for i in range(len(test_data)):\n",
    "    sentence = test_data.loc[i, \"#1 String\"]\n",
    "    sentence = str(sentence)\n",
    "    para_phrases = parrot.augment(input_phrase=sentence, \n",
    "                               diversity_ranker=\"levenshtein\",\n",
    "                               do_diverse=False, \n",
    "                               max_return_phrases = 1, \n",
    "                               max_length=32, \n",
    "                               adequacy_threshold = 0.5, \n",
    "                               fluency_threshold = 0.5)\n",
    "    if para_phrases is not None:\n",
    "        BLUE_score, TER_score, ROUGE_score, METEOR_score, SACREBLUE_score = eval(\n",
    "            predict_text=[para_phrases[0][0]], reference_text=sentence)\n",
    "        dict_in_dict[i] = {\n",
    "            \"text\": f\"{sentence}\",\n",
    "            \"parapharse\": f\"{para_phrases[0][0]}\",\n",
    "            \"BLUE_score\": BLUE_score['bleu'],\n",
    "            \"TER_score\": TER_score['score'],\n",
    "            \"ROUGE1_score\": ROUGE_score['rouge1'],\n",
    "            \"ROUGEL_score\": ROUGE_score['rougeL'],\n",
    "            \"METEOR_score\": METEOR_score['meteor'],\n",
    "            \"SACREBLUE_score\": SACREBLUE_score['score'],\n",
    "        }\n",
    "        progress_bar.update(1)\n",
    "        progress_bar.set_postfix_str(\n",
    "            f\"BLUE_score: {BLUE_score['bleu']:.3f}, TER_score {TER_score['score']:.3f}, ROUGE1_score {ROUGE_score['rouge1']:.3f}, ROUGEL_score {ROUGE_score['rougeL']:.3f}, METEOR_score {METEOR_score['meteor']:.3f},SACREBLUE_score: { SACREBLUE_score['score']:.3f}\", refresh=True)\n",
    "    else: \n",
    "         dict_in_dict[i] = {\n",
    "            \"text\": f\"{sentence}\",\n",
    "            \"parapharse\": None,\n",
    "            \"BLUE_score\": None,\n",
    "            \"TER_score\": None,\n",
    "            \"ROUGE1_score\": None,\n",
    "            \"ROUGEL_score\": None,\n",
    "            \"METEOR_score\": None,\n",
    "            \"SACREBLUE_score\": None,\n",
    "        }\n",
    "        \n",
    "progress_bar.close()\n",
    "print(\"!!!Done!!!\")"
   ]
  },
  {
   "cell_type": "code",
   "execution_count": 187,
   "metadata": {},
   "outputs": [
    {
     "data": {
      "text/plain": [
       "{0: {'text': 'This was a series of nested angular standards , so that measurements in azimuth and elevation could be done directly in polar coordinates relative to the ecliptic .',\n",
       "  'parapharse': None,\n",
       "  'BLUE_score': None,\n",
       "  'TER_score': None,\n",
       "  'ROUGE1_score': None,\n",
       "  'ROUGEL_score': None,\n",
       "  'METEOR_score': None,\n",
       "  'SACREBLUE_score': None},\n",
       " 1: {'text': 'His father emigrated to Missouri in 1868 but returned when his wife became ill and before the rest of the family could also go to America .',\n",
       "  'parapharse': 'his father emigrated to missouri in 1868 but returned when his wife became ill and before the rest of the family could also go to america',\n",
       "  'BLUE_score': 0.7813950770601232,\n",
       "  'TER_score': 3.7037037037037033,\n",
       "  'ROUGE1_score': 1.0,\n",
       "  'ROUGEL_score': 1.0,\n",
       "  'METEOR_score': 0.9665152548338136,\n",
       "  'SACREBLUE_score': 78.13950770601237},\n",
       " 2: {'text': 'In January 2011 , the Deputy Secretary General of FIBA Asia , Hagop Khajirian , inspected the venue together with SBP - President Manuel V. Pangilinan .',\n",
       "  'parapharse': 'in january 2011 hagop khajirian deputy secretary general of the fiba asia visited the venue together with the sbp president manuel v pangilinan',\n",
       "  'BLUE_score': 0.09540047276633608,\n",
       "  'TER_score': 37.03703703703704,\n",
       "  'ROUGE1_score': 0.9333333333333332,\n",
       "  'ROUGEL_score': 0.8,\n",
       "  'METEOR_score': 0.7327417182411812,\n",
       "  'SACREBLUE_score': 9.540047276633608},\n",
       " 3: {'text': 'Steiner argued that , in the right circumstances , the spiritual world can be explored through direct experience by practicing ethical and cognitive forms of rigorous self-discipline .',\n",
       "  'parapharse': 'steiner argued that the spiritual world can be explored through direct experience by practicing ethical and cognitive forms of rigorous self-discipline in the right circumstances',\n",
       "  'BLUE_score': 0.7375050125789243,\n",
       "  'TER_score': 14.285714285714285,\n",
       "  'ROUGE1_score': 1.0,\n",
       "  'ROUGEL_score': 0.8461538461538461,\n",
       "  'METEOR_score': 0.89628880866426,\n",
       "  'SACREBLUE_score': 73.75050125789241},\n",
       " 4: {'text': 'Luciano Williames Dias ( born July 25 , 1970 ) is a Brazilian football coach and former player .',\n",
       "  'parapharse': 'luciano williames dias born 25 july 1970 is a brazilian football coach and former player',\n",
       "  'BLUE_score': 0.23693677810258215,\n",
       "  'TER_score': 26.31578947368421,\n",
       "  'ROUGE1_score': 1.0,\n",
       "  'ROUGEL_score': 0.9333333333333333,\n",
       "  'METEOR_score': 0.7806451612903225,\n",
       "  'SACREBLUE_score': 23.693677810258215},\n",
       " 5: {'text': 'During her sophomore , junior and senior summers , she spent half of it with her Alaska team , and half playing , and living in Oregon .',\n",
       "  'parapharse': 'during her sophomore junior and senior summers she spent half of it with her alaska team and half playing and living in oregon',\n",
       "  'BLUE_score': 0.39703687191235315,\n",
       "  'TER_score': 17.857142857142858,\n",
       "  'ROUGE1_score': 1.0,\n",
       "  'ROUGEL_score': 1.0,\n",
       "  'METEOR_score': 0.8320673655267229,\n",
       "  'SACREBLUE_score': 39.70368719123532},\n",
       " 6: {'text': 'The smallest number that can be represented in two positive and seventh ways as a sum of four different powers is 2056364173794800 .',\n",
       "  'parapharse': 'the smallest number which can be represented as a sum of four different powers in two positive and seven ways is 2056364173794800',\n",
       "  'BLUE_score': 0.465416938259351,\n",
       "  'TER_score': 26.08695652173913,\n",
       "  'ROUGE1_score': 0.9090909090909091,\n",
       "  'ROUGEL_score': 0.6818181818181818,\n",
       "  'METEOR_score': 0.861572052401747,\n",
       "  'SACREBLUE_score': 46.5416938259351},\n",
       " 7: {'text': 'His father emigrated to Missouri in 1868 , but returned when his wife became ill and before the rest of the family could go to America .',\n",
       "  'parapharse': 'his father emigrated to missouri in 1868 but returned when his wife became ill and before the rest of the family could go to america',\n",
       "  'BLUE_score': 0.6879186357518018,\n",
       "  'TER_score': 7.4074074074074066,\n",
       "  'ROUGE1_score': 1.0,\n",
       "  'ROUGEL_score': 1.0,\n",
       "  'METEOR_score': 0.9325970149253732,\n",
       "  'SACREBLUE_score': 68.79186357518016},\n",
       " 8: {'text': 'The Villa Pesquera facilities are owned by the Municipality of Ponce , but operated by the fishermen themselves .',\n",
       "  'parapharse': 'the facilities of villa pesquera are owned by the municipality of ponce but operated by the fishermen themselves',\n",
       "  'BLUE_score': 0.39811631946890474,\n",
       "  'TER_score': 21.052631578947366,\n",
       "  'ROUGE1_score': 0.9714285714285714,\n",
       "  'ROUGEL_score': 0.9142857142857143,\n",
       "  'METEOR_score': 0.8880284139799711,\n",
       "  'SACREBLUE_score': 39.81163194689048},\n",
       " 9: {'text': 'It is situated south of Köroğlu Mountains and to the north of Bolu .',\n",
       "  'parapharse': 'it is situated to the south of the krolu mountains and to the north of bolu',\n",
       "  'BLUE_score': 0.2934712724688436,\n",
       "  'TER_score': 35.714285714285715,\n",
       "  'ROUGE1_score': 0.7741935483870969,\n",
       "  'ROUGEL_score': 0.7741935483870969,\n",
       "  'METEOR_score': 0.8384683098591549,\n",
       "  'SACREBLUE_score': 29.347127246884344}}"
      ]
     },
     "execution_count": 187,
     "metadata": {},
     "output_type": "execute_result"
    }
   ],
   "source": [
    "dict_in_dict"
   ]
  },
  {
   "cell_type": "code",
   "execution_count": null,
   "metadata": {},
   "outputs": [],
   "source": []
  },
  {
   "cell_type": "markdown",
   "metadata": {},
   "source": [
    "## PEGASUS Tunner "
   ]
  },
  {
   "cell_type": "code",
   "execution_count": 190,
   "metadata": {},
   "outputs": [
    {
     "name": "stderr",
     "output_type": "stream",
     "text": [
      "Some weights of PegasusForConditionalGeneration were not initialized from the model checkpoint at tuner007/pegasus_paraphrase and are newly initialized: ['model.encoder.embed_positions.weight', 'model.decoder.embed_positions.weight']\n",
      "You should probably TRAIN this model on a down-stream task to be able to use it for predictions and inference.\n"
     ]
    }
   ],
   "source": [
    "import torch\n",
    "from transformers import PegasusForConditionalGeneration, PegasusTokenizer\n",
    "model_name = 'tuner007/pegasus_paraphrase'\n",
    "torch_device = 'cuda' if torch.cuda.is_available() else 'cpu'\n",
    "tokenizer = PegasusTokenizer.from_pretrained(model_name)\n",
    "model = PegasusForConditionalGeneration.from_pretrained(model_name).to(torch_device)\n",
    "\n",
    "def get_response(input_text,num_return_sequences,num_beams):\n",
    "  batch = tokenizer([input_text],truncation=True,padding='longest',max_length=60, return_tensors=\"pt\").to(torch_device)\n",
    "  translated = model.generate(**batch,max_length=60,num_beams=num_beams, num_return_sequences=num_return_sequences, temperature=1.5)\n",
    "  tgt_text = tokenizer.batch_decode(translated, skip_special_tokens=True)\n",
    "  return tgt_text"
   ]
  },
  {
   "cell_type": "code",
   "execution_count": 214,
   "metadata": {},
   "outputs": [
    {
     "name": "stderr",
     "output_type": "stream",
     "text": [
      " 10%|█         | 1/10 [00:12<01:48, 12.10s/it, BLUE_score: 0.000, TER_score 100.000, ROUGE1_score 0.000, ROUGEL_score 0.000, METEOR_score 0.019,SACREBLUE_score: 0.799]\n"
     ]
    }
   ],
   "source": [
    "progress_bar.close()"
   ]
  },
  {
   "cell_type": "code",
   "execution_count": 215,
   "metadata": {},
   "outputs": [
    {
     "name": "stderr",
     "output_type": "stream",
     "text": [
      "100%|██████████| 10/10 [00:20<00:00,  2.04s/it, BLUE_score: 0.000, TER_score 100.000, ROUGE1_score 0.000, ROUGEL_score 0.000, METEOR_score 0.036,SACREBLUE_score: 2.853]"
     ]
    },
    {
     "name": "stdout",
     "output_type": "stream",
     "text": [
      "!!!Done!!!\n"
     ]
    },
    {
     "name": "stderr",
     "output_type": "stream",
     "text": [
      "\n"
     ]
    }
   ],
   "source": [
    "progress_bar = tqdm(range(0, len(test_data)))\n",
    "dict_in_dict = {}\n",
    "for i in range(len(test_data)):\n",
    "    sentence = test_data.loc[i, \"#1 String\"]\n",
    "    sentence = str(sentence)\n",
    "    output  = get_response(sentence,1,3)\n",
    "    if tgt_text is not None:\n",
    "        BLUE_score, TER_score, ROUGE_score, SACREBLUE_score = eval(\n",
    "            predict_text=tgt_text, reference_text=sentence)\n",
    "        dict_in_dict[i] = {\n",
    "            \"text\": f\"{sentence}\",\n",
    "            \"parapharse\": f\"{tgt_text[0]}\",\n",
    "            \"BLUE_score\": BLUE_score['bleu'],\n",
    "            \"TER_score\": TER_score['score'],\n",
    "            \"ROUGE1_score\": ROUGE_score['rouge1'],\n",
    "            \"ROUGE2_score\": ROUGE_score['rouge2'],\n",
    "            \"ROUGEL_score\": ROUGE_score['rougeL'],\n",
    "            \"SACREBLUE_score\": SACREBLUE_score['score'],\n",
    "        }\n",
    "        progress_bar.update(1)\n",
    "        progress_bar.set_postfix_str(\n",
    "            f\"BLUE_score: {BLUE_score['bleu']:.3f}, TER_score {TER_score['score']:.3f}, ROUGE1_score {ROUGE_score['rouge1']:.3f}, ROUGE2_score {ROUGE_score['rouge2']:.3f}, ROUGEL_score {ROUGE_score['rougeL']:.3f},SACREBLUE_score: { SACREBLUE_score['score']:.3f}\", refresh=True)\n",
    "    else: \n",
    "         dict_in_dict[i] = {\n",
    "            \"text\": f\"{sentence}\",\n",
    "            \"parapharse\": None,\n",
    "            \"BLUE_score\": None,\n",
    "            \"TER_score\": None,\n",
    "            \"ROUGE1_score\": None,\n",
    "            \"ROUGE2_score\": None,\n",
    "            \"ROUGEL_score\": None,\n",
    "            \"SACREBLUE_score\": None,\n",
    "        }\n",
    "        \n",
    "progress_bar.close()\n",
    "print(\"!!!Done!!!\")"
   ]
  },
  {
   "cell_type": "code",
   "execution_count": 216,
   "metadata": {},
   "outputs": [
    {
     "data": {
      "text/plain": [
       "{0: {'text': 'This was a series of nested angular standards , so that measurements in azimuth and elevation could be done directly in polar coordinates relative to the ecliptic .',\n",
       "  'parapharse': 'site; like online who),lyge his get lookingh',\n",
       "  'BLUE_score': 0.0,\n",
       "  'TER_score': 100.0,\n",
       "  'ROUGE1_score': 0.0,\n",
       "  'ROUGEL_score': 0.0,\n",
       "  'METEOR_score': 0.019011406844106463,\n",
       "  'SACREBLUE_score': 0.7990819669882756},\n",
       " 1: {'text': 'His father emigrated to Missouri in 1868 but returned when his wife became ill and before the rest of the family could also go to America .',\n",
       "  'parapharse': 'site; like go though who),lyge his get lookingh',\n",
       "  'BLUE_score': 0.0,\n",
       "  'TER_score': 96.29629629629629,\n",
       "  'ROUGE1_score': 0.1142857142857143,\n",
       "  'ROUGEL_score': 0.05714285714285715,\n",
       "  'METEOR_score': 0.058823529411764705,\n",
       "  'SACREBLUE_score': 1.15382592527539},\n",
       " 2: {'text': 'In January 2011 , the Deputy Secretary General of FIBA Asia , Hagop Khajirian , inspected the venue together with SBP - President Manuel V. Pangilinan .',\n",
       "  'parapharse': 'customers este pour other nicht newal3 his Am likeitésan',\n",
       "  'BLUE_score': 0.0,\n",
       "  'TER_score': 100.0,\n",
       "  'ROUGE1_score': 0.0,\n",
       "  'ROUGEL_score': 0.0,\n",
       "  'METEOR_score': 0.0,\n",
       "  'SACREBLUE_score': 0.0},\n",
       " 3: {'text': 'Steiner argued that , in the right circumstances , the spiritual world can be explored through direct experience by practicing ethical and cognitive forms of rigorous self-discipline .',\n",
       "  'parapharse': 'site; like online whocip looking rightle provide wholeandh',\n",
       "  'BLUE_score': 0.0,\n",
       "  'TER_score': 100.0,\n",
       "  'ROUGE1_score': 0.0,\n",
       "  'ROUGEL_score': 0.0,\n",
       "  'METEOR_score': 0.0,\n",
       "  'SACREBLUE_score': 0.0},\n",
       " 4: {'text': 'Luciano Williames Dias ( born July 25 , 1970 ) is a Brazilian football coach and former player .',\n",
       "  'parapharse': 'site; like pressurely9. player),h',\n",
       "  'BLUE_score': 0.0,\n",
       "  'TER_score': 100.0,\n",
       "  'ROUGE1_score': 0.1,\n",
       "  'ROUGEL_score': 0.1,\n",
       "  'METEOR_score': 0.1111111111111111,\n",
       "  'SACREBLUE_score': 2.2196021319769197},\n",
       " 5: {'text': 'During her sophomore , junior and senior summers , she spent half of it with her Alaska team , and half playing , and living in Oregon .',\n",
       "  'parapharse': 'intoDuring You like online who viah',\n",
       "  'BLUE_score': 0.0,\n",
       "  'TER_score': 100.0,\n",
       "  'ROUGE1_score': 0.0,\n",
       "  'ROUGEL_score': 0.0,\n",
       "  'METEOR_score': 0.0,\n",
       "  'SACREBLUE_score': 0.0},\n",
       " 6: {'text': 'The smallest number that can be represented in two positive and seventh ways as a sum of four different powers is 2056364173794800 .',\n",
       "  'parapharse': 'siteor back representedlyor half hisle56h',\n",
       "  'BLUE_score': 0.0,\n",
       "  'TER_score': 100.0,\n",
       "  'ROUGE1_score': 0.0,\n",
       "  'ROUGEL_score': 0.0,\n",
       "  'METEOR_score': 0.0,\n",
       "  'SACREBLUE_score': 0.0},\n",
       " 7: {'text': 'His father emigrated to Missouri in 1868 , but returned when his wife became ill and before the rest of the family could go to America .',\n",
       "  'parapharse': 'siteor could stillly see his get looking his von any68 place homeh',\n",
       "  'BLUE_score': 0.0,\n",
       "  'TER_score': 96.29629629629629,\n",
       "  'ROUGE1_score': 0.16216216216216217,\n",
       "  'ROUGEL_score': 0.10810810810810811,\n",
       "  'METEOR_score': 0.0784313725490196,\n",
       "  'SACREBLUE_score': 1.15382592527539},\n",
       " 8: {'text': 'The Villa Pesquera facilities are owned by the Municipality of Ponce , but operated by the fishermen themselves .',\n",
       "  'parapharse': 'siteor Air fishermen when want many; like ownedh',\n",
       "  'BLUE_score': 0.0,\n",
       "  'TER_score': 100.0,\n",
       "  'ROUGE1_score': 0.07999999999999999,\n",
       "  'ROUGEL_score': 0.07999999999999999,\n",
       "  'METEOR_score': 0.027777777777777776,\n",
       "  'SACREBLUE_score': 1.5694957190569983},\n",
       " 9: {'text': 'It is situated south of Köroğlu Mountains and to the north of Bolu .',\n",
       "  'parapharse': 'siteor back stillly). get looking his von like Herh',\n",
       "  'BLUE_score': 0.0,\n",
       "  'TER_score': 100.0,\n",
       "  'ROUGE1_score': 0.0,\n",
       "  'ROUGEL_score': 0.0,\n",
       "  'METEOR_score': 0.0364963503649635,\n",
       "  'SACREBLUE_score': 2.853183878886449}}"
      ]
     },
     "execution_count": 216,
     "metadata": {},
     "output_type": "execute_result"
    }
   ],
   "source": [
    "dict_in_dict"
   ]
  },
  {
   "cell_type": "code",
   "execution_count": 196,
   "metadata": {},
   "outputs": [
    {
     "data": {
      "text/plain": [
       "['The test of your knowledge is your ability to convey it.']"
      ]
     },
     "execution_count": 196,
     "metadata": {},
     "output_type": "execute_result"
    }
   ],
   "source": [
    "num_beams = 3\n",
    "num_return_sequences = 1\n",
    "context = \"The ultimate test of your knowledge is your capacity to convey it to another.\"\n",
    "get_response(context,num_return_sequences,num_beams)"
   ]
  },
  {
   "cell_type": "markdown",
   "metadata": {},
   "source": [
    "## Visual Model"
   ]
  },
  {
   "cell_type": "code",
   "execution_count": 217,
   "metadata": {},
   "outputs": [],
   "source": [
    "eda_model_owner = pd.read_csv('./EDA_model_ThanhJamieAI8E4B.csv')"
   ]
  },
  {
   "cell_type": "code",
   "execution_count": 219,
   "metadata": {},
   "outputs": [],
   "source": [
    "eda_model_owner['TER_score'] = 100 - eda_model_owner['TER_score'].astype(float)  "
   ]
  },
  {
   "cell_type": "code",
   "execution_count": 220,
   "metadata": {},
   "outputs": [
    {
     "data": {
      "text/html": [
       "<div>\n",
       "<style scoped>\n",
       "    .dataframe tbody tr th:only-of-type {\n",
       "        vertical-align: middle;\n",
       "    }\n",
       "\n",
       "    .dataframe tbody tr th {\n",
       "        vertical-align: top;\n",
       "    }\n",
       "\n",
       "    .dataframe thead th {\n",
       "        text-align: right;\n",
       "    }\n",
       "</style>\n",
       "<table border=\"1\" class=\"dataframe\">\n",
       "  <thead>\n",
       "    <tr style=\"text-align: right;\">\n",
       "      <th></th>\n",
       "      <th>text</th>\n",
       "      <th>paraphrase</th>\n",
       "      <th>BLUE_score</th>\n",
       "      <th>TER_score</th>\n",
       "      <th>ROUGE1_score</th>\n",
       "      <th>ROUGE2_score</th>\n",
       "      <th>ROUGEL_score</th>\n",
       "      <th>SACREBLUE_score</th>\n",
       "    </tr>\n",
       "  </thead>\n",
       "  <tbody>\n",
       "    <tr>\n",
       "      <th>0</th>\n",
       "      <td>This was a series of nested angular standards ...</td>\n",
       "      <td>This was a series of nested orthogonal standar...</td>\n",
       "      <td>0.803226</td>\n",
       "      <td>78.571429</td>\n",
       "      <td>0.941176</td>\n",
       "      <td>0.857143</td>\n",
       "      <td>0.941176</td>\n",
       "      <td>80.322636</td>\n",
       "    </tr>\n",
       "    <tr>\n",
       "      <th>1</th>\n",
       "      <td>His father emigrated to Missouri in 1868 but r...</td>\n",
       "      <td>His father emigrated to Missouri in 1868, but ...</td>\n",
       "      <td>0.698891</td>\n",
       "      <td>77.777778</td>\n",
       "      <td>0.920000</td>\n",
       "      <td>0.833333</td>\n",
       "      <td>0.920000</td>\n",
       "      <td>69.889092</td>\n",
       "    </tr>\n",
       "    <tr>\n",
       "      <th>2</th>\n",
       "      <td>In January 2011 , the Deputy Secretary General...</td>\n",
       "      <td>In January 2011, the Deputy Secretary General ...</td>\n",
       "      <td>0.615079</td>\n",
       "      <td>70.370370</td>\n",
       "      <td>0.954545</td>\n",
       "      <td>0.904762</td>\n",
       "      <td>0.954545</td>\n",
       "      <td>61.507859</td>\n",
       "    </tr>\n",
       "    <tr>\n",
       "      <th>3</th>\n",
       "      <td>Steiner argued that , in the right circumstanc...</td>\n",
       "      <td>Steiner argued that in the right circumstances...</td>\n",
       "      <td>0.814787</td>\n",
       "      <td>78.571429</td>\n",
       "      <td>0.961538</td>\n",
       "      <td>0.920000</td>\n",
       "      <td>0.961538</td>\n",
       "      <td>81.478655</td>\n",
       "    </tr>\n",
       "    <tr>\n",
       "      <th>4</th>\n",
       "      <td>Luciano Williames Dias ( born July 25 , 1970 )...</td>\n",
       "      <td>Luciano Williames Dias ( born 25 July 1970 ) i...</td>\n",
       "      <td>0.757765</td>\n",
       "      <td>78.947368</td>\n",
       "      <td>1.000000</td>\n",
       "      <td>0.785714</td>\n",
       "      <td>0.933333</td>\n",
       "      <td>75.776546</td>\n",
       "    </tr>\n",
       "    <tr>\n",
       "      <th>...</th>\n",
       "      <td>...</td>\n",
       "      <td>...</td>\n",
       "      <td>...</td>\n",
       "      <td>...</td>\n",
       "      <td>...</td>\n",
       "      <td>...</td>\n",
       "      <td>...</td>\n",
       "      <td>...</td>\n",
       "    </tr>\n",
       "    <tr>\n",
       "      <th>4995</th>\n",
       "      <td>At the end of the Panthers next possession , C...</td>\n",
       "      <td>At the end of the Panthers's next possession, ...</td>\n",
       "      <td>0.906187</td>\n",
       "      <td>81.481481</td>\n",
       "      <td>0.981132</td>\n",
       "      <td>0.941176</td>\n",
       "      <td>0.981132</td>\n",
       "      <td>90.618744</td>\n",
       "    </tr>\n",
       "    <tr>\n",
       "      <th>4996</th>\n",
       "      <td>It was held in Wisconsin in 2015 and 2016 and ...</td>\n",
       "      <td>It was held in Wisconsin in 2015 and 2016 and ...</td>\n",
       "      <td>0.721399</td>\n",
       "      <td>77.777778</td>\n",
       "      <td>0.941176</td>\n",
       "      <td>0.812500</td>\n",
       "      <td>0.823529</td>\n",
       "      <td>72.139899</td>\n",
       "    </tr>\n",
       "    <tr>\n",
       "      <th>4997</th>\n",
       "      <td>Lamas is the capital city of the province of L...</td>\n",
       "      <td>Lamas is the capital city of the province of L...</td>\n",
       "      <td>0.849233</td>\n",
       "      <td>84.210526</td>\n",
       "      <td>0.918919</td>\n",
       "      <td>0.857143</td>\n",
       "      <td>0.918919</td>\n",
       "      <td>84.923266</td>\n",
       "    </tr>\n",
       "    <tr>\n",
       "      <th>4998</th>\n",
       "      <td>At club level , Latin America has not develope...</td>\n",
       "      <td>At club level, Latin America has not developed...</td>\n",
       "      <td>1.000000</td>\n",
       "      <td>81.818182</td>\n",
       "      <td>1.000000</td>\n",
       "      <td>1.000000</td>\n",
       "      <td>1.000000</td>\n",
       "      <td>100.000000</td>\n",
       "    </tr>\n",
       "    <tr>\n",
       "      <th>4999</th>\n",
       "      <td>Gold Hill is also the location of `` Roamer 's...</td>\n",
       "      <td>Gold Hill is also the location of  Roamer's Ro...</td>\n",
       "      <td>0.810816</td>\n",
       "      <td>68.965517</td>\n",
       "      <td>1.000000</td>\n",
       "      <td>1.000000</td>\n",
       "      <td>1.000000</td>\n",
       "      <td>81.081614</td>\n",
       "    </tr>\n",
       "  </tbody>\n",
       "</table>\n",
       "<p>5000 rows × 8 columns</p>\n",
       "</div>"
      ],
      "text/plain": [
       "                                                   text  \\\n",
       "0     This was a series of nested angular standards ...   \n",
       "1     His father emigrated to Missouri in 1868 but r...   \n",
       "2     In January 2011 , the Deputy Secretary General...   \n",
       "3     Steiner argued that , in the right circumstanc...   \n",
       "4     Luciano Williames Dias ( born July 25 , 1970 )...   \n",
       "...                                                 ...   \n",
       "4995  At the end of the Panthers next possession , C...   \n",
       "4996  It was held in Wisconsin in 2015 and 2016 and ...   \n",
       "4997  Lamas is the capital city of the province of L...   \n",
       "4998  At club level , Latin America has not develope...   \n",
       "4999  Gold Hill is also the location of `` Roamer 's...   \n",
       "\n",
       "                                             paraphrase  BLUE_score  \\\n",
       "0     This was a series of nested orthogonal standar...    0.803226   \n",
       "1     His father emigrated to Missouri in 1868, but ...    0.698891   \n",
       "2     In January 2011, the Deputy Secretary General ...    0.615079   \n",
       "3     Steiner argued that in the right circumstances...    0.814787   \n",
       "4     Luciano Williames Dias ( born 25 July 1970 ) i...    0.757765   \n",
       "...                                                 ...         ...   \n",
       "4995  At the end of the Panthers's next possession, ...    0.906187   \n",
       "4996  It was held in Wisconsin in 2015 and 2016 and ...    0.721399   \n",
       "4997  Lamas is the capital city of the province of L...    0.849233   \n",
       "4998  At club level, Latin America has not developed...    1.000000   \n",
       "4999  Gold Hill is also the location of  Roamer's Ro...    0.810816   \n",
       "\n",
       "      TER_score  ROUGE1_score  ROUGE2_score  ROUGEL_score  SACREBLUE_score  \n",
       "0     78.571429      0.941176      0.857143      0.941176        80.322636  \n",
       "1     77.777778      0.920000      0.833333      0.920000        69.889092  \n",
       "2     70.370370      0.954545      0.904762      0.954545        61.507859  \n",
       "3     78.571429      0.961538      0.920000      0.961538        81.478655  \n",
       "4     78.947368      1.000000      0.785714      0.933333        75.776546  \n",
       "...         ...           ...           ...           ...              ...  \n",
       "4995  81.481481      0.981132      0.941176      0.981132        90.618744  \n",
       "4996  77.777778      0.941176      0.812500      0.823529        72.139899  \n",
       "4997  84.210526      0.918919      0.857143      0.918919        84.923266  \n",
       "4998  81.818182      1.000000      1.000000      1.000000       100.000000  \n",
       "4999  68.965517      1.000000      1.000000      1.000000        81.081614  \n",
       "\n",
       "[5000 rows x 8 columns]"
      ]
     },
     "execution_count": 220,
     "metadata": {},
     "output_type": "execute_result"
    }
   ],
   "source": [
    "eda_model_owner"
   ]
  },
  {
   "cell_type": "code",
   "execution_count": 249,
   "metadata": {},
   "outputs": [],
   "source": [
    "eda_model_owner.describe().to_csv('EDA_model_ThanhJamieAI8E4B_describe.csv', index=False)"
   ]
  },
  {
   "cell_type": "code",
   "execution_count": 242,
   "metadata": {},
   "outputs": [
    {
     "ename": "AttributeError",
     "evalue": "module 'matplotlib.pyplot' has no attribute 'lowess'",
     "output_type": "error",
     "traceback": [
      "\u001b[1;31m---------------------------------------------------------------------------\u001b[0m",
      "\u001b[1;31mAttributeError\u001b[0m                            Traceback (most recent call last)",
      "\u001b[1;32me:\\THESIS\\EDA\\EDA_model.ipynb Cell 39\u001b[0m line \u001b[0;36m7\n\u001b[0;32m      <a href='vscode-notebook-cell:/e%3A/THESIS/EDA/EDA_model.ipynb#X62sZmlsZQ%3D%3D?line=3'>4</a>\u001b[0m plt\u001b[39m.\u001b[39mplot(eda_model_owner[\u001b[39m\"\u001b[39m\u001b[39mtext\u001b[39m\u001b[39m\"\u001b[39m]\u001b[39m.\u001b[39mindex, eda_model_owner[\u001b[39m\"\u001b[39m\u001b[39mBLUE_score\u001b[39m\u001b[39m\"\u001b[39m])\n\u001b[0;32m      <a href='vscode-notebook-cell:/e%3A/THESIS/EDA/EDA_model.ipynb#X62sZmlsZQ%3D%3D?line=5'>6</a>\u001b[0m \u001b[39m# Add y smothing\u001b[39;00m\n\u001b[1;32m----> <a href='vscode-notebook-cell:/e%3A/THESIS/EDA/EDA_model.ipynb#X62sZmlsZQ%3D%3D?line=6'>7</a>\u001b[0m y_smooth \u001b[39m=\u001b[39m plt\u001b[39m.\u001b[39;49mlowess(eda_model_owner[\u001b[39m\"\u001b[39m\u001b[39mBLUE_score\u001b[39m\u001b[39m\"\u001b[39m], span\u001b[39m=\u001b[39m\u001b[39m0.2\u001b[39m)\n\u001b[0;32m      <a href='vscode-notebook-cell:/e%3A/THESIS/EDA/EDA_model.ipynb#X62sZmlsZQ%3D%3D?line=7'>8</a>\u001b[0m plt\u001b[39m.\u001b[39mplot(y_smooth[:, \u001b[39m0\u001b[39m], y_smooth[:, \u001b[39m1\u001b[39m], color\u001b[39m=\u001b[39m\u001b[39m\"\u001b[39m\u001b[39mred\u001b[39m\u001b[39m\"\u001b[39m)\n\u001b[0;32m     <a href='vscode-notebook-cell:/e%3A/THESIS/EDA/EDA_model.ipynb#X62sZmlsZQ%3D%3D?line=9'>10</a>\u001b[0m \u001b[39m# Add labels to the axes\u001b[39;00m\n",
      "\u001b[1;31mAttributeError\u001b[0m: module 'matplotlib.pyplot' has no attribute 'lowess'"
     ]
    },
    {
     "data": {
      "image/png": "[encoded data removed]",
      "text/plain": [
       "<Figure size 640x480 with 1 Axes>"
      ]
     },
     "metadata": {},
     "output_type": "display_data"
    }
   ],
   "source": [
    "import pandas as pd\n",
    "import matplotlib.pyplot as plt\n",
    "# Change the color of the line\n",
    "plt.plot(eda_model_owner[\"text\"].index, eda_model_owner[\"BLUE_score\"])\n",
    "\n",
    "# Add y smothing\n",
    "y_smooth = plt.lowess(eda_model_owner[\"BLUE_score\"], span=0.2)\n",
    "plt.plot(y_smooth[:, 0], y_smooth[:, 1], color=\"red\")\n",
    "\n",
    "# Add labels to the axes\n",
    "plt.xlabel(\"Line number\")\n",
    "plt.ylabel(\"BLUE score\")\n",
    "\n",
    "# Show the plot\n",
    "plt.show()\n"
   ]
  }
 ],
 "metadata": {
  "kernelspec": {
   "display_name": ".venv",
   "language": "python",
   "name": "python3"
  },
  "language_info": {
   "codemirror_mode": {
    "name": "ipython",
    "version": 3
   },
   "file_extension": ".py",
   "mimetype": "text/x-python",
   "name": "python",
   "nbconvert_exporter": "python",
   "pygments_lexer": "ipython3",
   "version": "3.9.12"
  }
 },
 "nbformat": 4,
 "nbformat_minor": 2
}
