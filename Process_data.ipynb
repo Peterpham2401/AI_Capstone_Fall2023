{
 "cells": [
  {
   "cell_type": "code",
   "execution_count": null,
   "metadata": {},
   "outputs": [],
   "source": [
    "from google.colab import drive\n",
    "drive.mount('/content/drive')"
   ]
  },
  {
   "cell_type": "code",
   "execution_count": null,
   "metadata": {
    "colab": {
     "base_uri": "https://localhost:8080/"
    },
    "id": "XwEpe0l4JFqX",
    "outputId": "c1c52d62-0fe8-423e-a370-a878f920cb11"
   },
   "outputs": [],
   "source": [
    "import pandas as pd"
   ]
  },
  {
   "cell_type": "markdown",
   "metadata": {
    "id": "AzHUDM4aSf_s"
   },
   "source": [
    "# Function load dataset\n",
    "* Load table, then formatting each as same as main format"
   ]
  },
  {
   "cell_type": "code",
   "execution_count": null,
   "metadata": {
    "id": "syPAnrVtQRaz"
   },
   "outputs": [],
   "source": [
    "def preprocess_dataset(input_path: str, sep: str, select_columns: list, rename_columns: list):\n",
    "    if input_path.split(\".\")[1] == \"txt\":\n",
    "        df = pd.read_csv(input_path, sep=sep, quoting=csv.QUOTE_NONE)\n",
    "    elif input_path.split(\".\")[1] == \"parquet\":\n",
    "        df = pd.read_parquet(input_path)\n",
    "    else:\n",
    "        df = pd.read_csv(input_path, sep=sep)\n",
    "\n",
    "    if len(select_columns) == 0:\n",
    "        return df\n",
    "    elif len(rename_columns) == 0:\n",
    "        return df[select_columns]\n",
    "    elif len(select_columns) == len(rename_columns):\n",
    "        for i in range(0, len(select_columns)):\n",
    "            df.rename(columns={select_columns[i]: rename_columns[i]}, inplace=True)\n",
    "        return df[rename_columns]\n",
    "    else:\n",
    "        return df"
   ]
  },
  {
   "cell_type": "markdown",
   "metadata": {
    "id": "olSJRc4saTXy"
   },
   "source": [
    "# Process data"
   ]
  },
  {
   "cell_type": "markdown",
   "metadata": {
    "id": "b4Hi5tuoQUoN"
   },
   "source": [
    "## Process training set"
   ]
  },
  {
   "cell_type": "code",
   "execution_count": null,
   "metadata": {
    "id": "OQEE6GAGQhlV"
   },
   "outputs": [],
   "source": [
    "dataset_etpc = \"./datasets/train_set/etpc_train.parquet\"\n",
    "dataset_mrpc = \"./datasets/train_set/mrpc_train.parquet\"\n",
    "dataset_paws = \"./datasets/train_set/paws_labeled_final_train.parquet\"\n",
    "dataset_superGlue = \"./datasets/train_set/superGlue_axb_train.parquet\""
   ]
  },
  {
   "cell_type": "code",
   "execution_count": null,
   "metadata": {
    "id": "M9h40dbqRDnK"
   },
   "outputs": [],
   "source": [
    "df_etpc = preprocess_dataset(dataset_etpc, \"\", [\"sentence1\", \"sentence2\", \"etpc_label\"], [\"#1 String\", \"#2 String\", \"label\"])\n",
    "df_paws = preprocess_dataset(dataset_paws, \"\", [\"sentence1\", \"sentence2\", \"label\"], [\"#1 String\", \"#2 String\", \"label\"])\n",
    "df_superGlue = preprocess_dataset(dataset_superGlue, \"\", [\"sentence1\", \"sentence2\", \"label\"], [\"#1 String\", \"#2 String\", \"label\"])\n",
    "df_mrpc = preprocess_dataset(dataset_mrpc, \"\", [\"sentence1\", \"sentence2\", \"label\"], [\"#1 String\", \"#2 String\", \"label\"])\n",
    "\n",
    "df_train = pd.concat([df_etpc, df_paws, df_superGlue, df_mrpc])\n",
    "df_train_quality = df_train.loc[df_train[\"label\"] == 1]"
   ]
  },
  {
   "cell_type": "markdown",
   "metadata": {
    "id": "ftcT84FtRZHx"
   },
   "source": [
    "## Process validation set"
   ]
  },
  {
   "cell_type": "code",
   "execution_count": null,
   "metadata": {
    "id": "TtlHKsVCRQ6x"
   },
   "outputs": [],
   "source": [
    "dataset_mrpc = \"./datasets/validation_set/mrpc_validation.parquet\"\n",
    "dataset_paws = \"./datasets/validation_set/paws_labeled_final_validation.parquet\""
   ]
  },
  {
   "cell_type": "code",
   "execution_count": null,
   "metadata": {
    "colab": {
     "base_uri": "https://localhost:8080/"
    },
    "id": "iL66hYJKRx4V",
    "outputId": "a2057651-ff32-4393-96c8-e97e5cd3e30c"
   },
   "outputs": [],
   "source": [
    "df_paws = preprocess_dataset(dataset_paws, \"\", [\"sentence1\", \"sentence2\", \"label\"], [\"#1 String\", \"#2 String\", \"label\"])\n",
    "df_mrpc = preprocess_dataset(dataset_mrpc, \"\", [\"sentence1\", \"sentence2\", \"label\"], [\"#1 String\", \"#2 String\", \"label\"])\n",
    "\n",
    "df_validation = pd.concat([df_paws, df_mrpc])"
   ]
  },
  {
   "cell_type": "markdown",
   "metadata": {
    "id": "tT4V59tSSIeG"
   },
   "source": [
    "## Process test set"
   ]
  },
  {
   "cell_type": "code",
   "execution_count": null,
   "metadata": {
    "id": "-8LUvoB5SK1b"
   },
   "outputs": [],
   "source": [
    "dataset_mrpc = \"./datasets/test_set/mrpc_test.parquet\"\n",
    "dataset_paws = \"./datasets/test_set/paws_labeled_final_test.parquet\"\n",
    "dataset_superGlue = \"./datasets/test_set/superGlue_axg_test.parquet\""
   ]
  },
  {
   "cell_type": "code",
   "execution_count": null,
   "metadata": {
    "id": "ZNQYPuCuSaoo"
   },
   "outputs": [],
   "source": [
    "df_paws = preprocess_dataset(dataset_paws, \"\", [\"sentence1\", \"sentence2\", \"label\"], [\"#1 String\", \"#2 String\", \"label\"])\n",
    "df_superGlue = preprocess_dataset(dataset_superGlue, \"\", [\"premise\", \"hypothesis\", \"label\"], [\"#1 String\", \"#2 String\", \"label\"])\n",
    "df_mrpc = preprocess_dataset(dataset_mrpc, \"\", [\"sentence1\", \"sentence2\", \"label\"], [\"#1 String\", \"#2 String\", \"label\"])"
   ]
  },
  {
   "cell_type": "code",
   "execution_count": null,
   "metadata": {
    "colab": {
     "base_uri": "https://localhost:8080/"
    },
    "id": "RhaCgWyzD2l8",
    "outputId": "fa3c3124-5fc4-42ac-8435-493fd5959ac9"
   },
   "outputs": [],
   "source": [
    "df_testSet = pd.concat([df_paws, df_superGlue, df_mrpc])"
   ]
  },
  {
   "cell_type": "markdown",
   "metadata": {
    "id": "Eba7DktdaoGd"
   },
   "source": [
    "# Analyse Dataset"
   ]
  },
  {
   "cell_type": "code",
   "execution_count": null,
   "metadata": {
    "colab": {
     "base_uri": "https://localhost:8080/"
    },
    "id": "k_eyZOuSbiDV",
    "outputId": "d0df6a8a-854e-4da6-e40d-da0bc5fff15c"
   },
   "outputs": [],
   "source": [
    "!pip install transformers\n",
    "!pip install torch\n",
    "!pip install language_tool_python\n",
    "!pip install scipy\n",
    "!pip install pandas\n",
    "!pip install matplotlib\n",
    "!pip install seaborn"
   ]
  },
  {
   "cell_type": "markdown",
   "metadata": {},
   "source": [
    "## Import Libary"
   ]
  },
  {
   "cell_type": "code",
   "execution_count": 2,
   "metadata": {
    "id": "judIeSgma9ld"
   },
   "outputs": [],
   "source": [
    "import pandas as pd\n",
    "import matplotlib.pyplot as plt\n",
    "import seaborn as sns\n",
    "\n",
    "from transformers import BertTokenizer, BertModel\n",
    "import torch\n",
    "import language_tool_python\n",
    "from scipy.spatial.distance import cosine"
   ]
  },
  {
   "cell_type": "markdown",
   "metadata": {},
   "source": [
    "## Load Function"
   ]
  },
  {
   "cell_type": "code",
   "execution_count": 3,
   "metadata": {
    "id": "syPAnrVtQRaz"
   },
   "outputs": [],
   "source": [
    "def preprocess_dataset(input_path: str, sep: str, select_columns: list, rename_columns: list):\n",
    "    if input_path.split(\".\")[1] == \"txt\":\n",
    "        df = pd.read_csv(input_path, sep=sep, quoting=csv.QUOTE_NONE)\n",
    "    elif input_path.split(\".\")[1] == \"parquet\":\n",
    "        df = pd.read_parquet(input_path)\n",
    "    else:\n",
    "        df = pd.read_csv(input_path, sep=sep)\n",
    "\n",
    "    if len(select_columns) == 0:\n",
    "        return df\n",
    "    elif len(rename_columns) == 0:\n",
    "        return df[select_columns]\n",
    "    elif len(select_columns) == len(rename_columns):\n",
    "        for i in range(0, len(select_columns)):\n",
    "            df.rename(columns={select_columns[i]: rename_columns[i]}, inplace=True)\n",
    "        return df[rename_columns]\n",
    "    else:\n",
    "        return df"
   ]
  },
  {
   "cell_type": "code",
   "execution_count": 4,
   "metadata": {},
   "outputs": [],
   "source": [
    "def process_add_more_info(df: pd.core.frame.DataFrame, \\\n",
    "                         tokenizer: BertTokenizer,\n",
    "                         MAX_LEN: int):\n",
    "    def semantic_similarity(original_embeddings, paraphrased_embeddings):\n",
    "        return 1 - cosine(original_embeddings, paraphrased_embeddings)\n",
    "\n",
    "    df['original_length'] = df['original_sentence']\\\n",
    "        .apply(lambda row:\n",
    "           len(row.split()))\n",
    "\n",
    "    df['paraphrased_length'] = df['paraphrased_sentence']\\\n",
    "        .apply(lambda row:\n",
    "           len(row.split()))\n",
    "\n",
    "    df['original_embeddings'] = df['original_sentence']\\\n",
    "        .apply(\n",
    "        lambda row:\n",
    "        tokenizer.encode(row, add_special_tokens=True, max_length=MAX_LEN, padding='max_length'))\n",
    "\n",
    "    df['paraphrased_embeddings'] = df['paraphrased_sentence']\\\n",
    "        .apply(lambda row:\n",
    "           tokenizer.encode(row, add_special_tokens=True, max_length=MAX_LEN, padding='max_length'))\n",
    "\n",
    "    df['semantic_similarity'] = df\\\n",
    "        .apply(lambda row:\n",
    "           semantic_similarity(row['original_embeddings'], row['paraphrased_embeddings']), axis=1)\n",
    "\n",
    "    return df"
   ]
  },
  {
   "cell_type": "markdown",
   "metadata": {},
   "source": [
    "## Initialize the BERT model and tokenizer"
   ]
  },
  {
   "cell_type": "code",
   "execution_count": 5,
   "metadata": {
    "id": "ttjVCOy3c19W"
   },
   "outputs": [],
   "source": [
    "# Initialize the BERT model and tokenizer\n",
    "tokenizer = BertTokenizer.from_pretrained('bert-base-uncased')\n",
    "MAX_LEN = 128"
   ]
  },
  {
   "cell_type": "markdown",
   "metadata": {
    "id": "svnb_viQXojr"
   },
   "source": [
    "## Analyse training set"
   ]
  },
  {
   "cell_type": "markdown",
   "metadata": {},
   "source": [
    "### Load data"
   ]
  },
  {
   "cell_type": "code",
   "execution_count": 6,
   "metadata": {
    "id": "yhU3ZJW8bE9X"
   },
   "outputs": [],
   "source": [
    "dataset_etpc = \"datasets/train_set/etpc_train.parquet\"\n",
    "dataset_mrpc = \"datasets/train_set/mrpc_train.parquet\"\n",
    "dataset_paws = \"datasets/train_set/paws_labeled_final_train.parquet\"\n",
    "dataset_superGlue = \"datasets/train_set/superGlue_axb_train.parquet\""
   ]
  },
  {
   "cell_type": "code",
   "execution_count": 7,
   "metadata": {
    "colab": {
     "base_uri": "https://localhost:8080/",
     "height": 250
    },
    "id": "EQV-L8yubOmM",
    "outputId": "bd0c8a98-ce48-4064-9eac-5305302924ef"
   },
   "outputs": [],
   "source": [
    "df_etpc = preprocess_dataset(dataset_etpc, \"\", [\"sentence1\", \"sentence2\", \"etpc_label\"], [\"original_sentence\", \"paraphrased_sentence\", \"label\"])\n",
    "df_paws = preprocess_dataset(dataset_paws, \"\", [\"sentence1\", \"sentence2\", \"label\"], [\"original_sentence\", \"paraphrased_sentence\", \"label\"])\n",
    "df_superGlue = preprocess_dataset(dataset_superGlue, \"\", [\"sentence1\", \"sentence2\", \"label\"], [\"original_sentence\", \"paraphrased_sentence\", \"label\"])\n",
    "df_mrpc = preprocess_dataset(dataset_mrpc, \"\", [\"sentence1\", \"sentence2\", \"label\"], [\"original_sentence\", \"paraphrased_sentence\", \"label\"])\n",
    "\n",
    "df_train = pd.concat([df_etpc, df_paws, df_superGlue, df_mrpc])"
   ]
  },
  {
   "cell_type": "code",
   "execution_count": 8,
   "metadata": {
    "scrolled": true
   },
   "outputs": [],
   "source": [
    "df_train = process_add_more_info(df_train, tokenizer, MAX_LEN)"
   ]
  },
  {
   "cell_type": "markdown",
   "metadata": {},
   "source": [
    "### Statistict Analyse"
   ]
  },
  {
   "cell_type": "code",
   "execution_count": 9,
   "metadata": {},
   "outputs": [
    {
     "name": "stdout",
     "output_type": "stream",
     "text": [
      "       original_length  paraphrased_length  semantic_similarity\n",
      "count     60382.000000        60382.000000         60382.000000\n",
      "mean         20.854195           20.843513             0.638972\n",
      "std           5.600796            5.590860             0.226168\n",
      "min           2.000000            2.000000             0.077249\n",
      "25%          17.000000           17.000000             0.454834\n",
      "50%          21.000000           21.000000             0.625675\n",
      "75%          25.000000           25.000000             0.833222\n",
      "max          44.000000           44.000000             1.000000\n"
     ]
    }
   ],
   "source": [
    "print(df_train[['original_length', 'paraphrased_length', \"semantic_similarity\"]].describe())"
   ]
  },
  {
   "cell_type": "markdown",
   "metadata": {},
   "source": [
    "### Filter train quality"
   ]
  },
  {
   "cell_type": "code",
   "execution_count": 10,
   "metadata": {},
   "outputs": [],
   "source": [
    "df_train_quality = df_train.loc[df_train[\"label\"] == 1]"
   ]
  },
  {
   "cell_type": "code",
   "execution_count": 11,
   "metadata": {
    "scrolled": true
   },
   "outputs": [
    {
     "name": "stdout",
     "output_type": "stream",
     "text": [
      "       original_length  paraphrased_length  semantic_similarity\n",
      "count     28553.000000        28553.000000         28553.000000\n",
      "mean         20.818338           20.809022             0.660497\n",
      "std           5.586236            5.566694             0.233404\n",
      "min           2.000000            2.000000             0.077249\n",
      "25%          17.000000           17.000000             0.465964\n",
      "50%          21.000000           21.000000             0.654883\n",
      "75%          25.000000           25.000000             0.875990\n",
      "max          44.000000           44.000000             1.000000\n"
     ]
    }
   ],
   "source": [
    "print(df_train_quality[['original_length', 'paraphrased_length', \"semantic_similarity\"]].describe())"
   ]
  },
  {
   "cell_type": "markdown",
   "metadata": {
    "id": "Vkr0NkCyXtoK"
   },
   "source": [
    "## Analyse validation set"
   ]
  },
  {
   "cell_type": "markdown",
   "metadata": {},
   "source": [
    "### Load data"
   ]
  },
  {
   "cell_type": "code",
   "execution_count": 12,
   "metadata": {
    "id": "uhr9A5Q5hUdQ"
   },
   "outputs": [],
   "source": [
    "dataset_mrpc = \"datasets/validation_set/mrpc_validation.parquet\"\n",
    "dataset_paws = \"datasets/validation_set/paws_labeled_final_validation.parquet\""
   ]
  },
  {
   "cell_type": "code",
   "execution_count": 13,
   "metadata": {
    "id": "Fs6CCBzUhWWo"
   },
   "outputs": [],
   "source": [
    "df_paws = preprocess_dataset(dataset_paws, \"\", [\"sentence1\", \"sentence2\", \"label\"], [\"original_sentence\", \"paraphrased_sentence\", \"label\"])\n",
    "df_mrpc = preprocess_dataset(dataset_mrpc, \"\", [\"sentence1\", \"sentence2\", \"label\"], [\"original_sentence\", \"paraphrased_sentence\", \"label\"])\n",
    "\n",
    "df_validation = pd.concat([df_paws, df_mrpc])"
   ]
  },
  {
   "cell_type": "code",
   "execution_count": 14,
   "metadata": {},
   "outputs": [],
   "source": [
    "df_validation = process_add_more_info(df_validation, tokenizer, MAX_LEN)"
   ]
  },
  {
   "cell_type": "code",
   "execution_count": 15,
   "metadata": {},
   "outputs": [
    {
     "name": "stdout",
     "output_type": "stream",
     "text": [
      "       original_length  paraphrased_length  semantic_similarity\n",
      "count      8408.000000         8408.000000          8408.000000\n",
      "mean         21.432564           21.379995             0.660456\n",
      "std           5.509033            5.468390             0.224437\n",
      "min           5.000000            5.000000             0.124853\n",
      "25%          17.000000           17.000000             0.477516\n",
      "50%          21.000000           21.000000             0.653305\n",
      "75%          26.000000           26.000000             0.861492\n",
      "max          37.000000           37.000000             1.000000\n"
     ]
    }
   ],
   "source": [
    "print(df_validation[['original_length', 'paraphrased_length', \"semantic_similarity\"]].describe())"
   ]
  },
  {
   "cell_type": "markdown",
   "metadata": {},
   "source": [
    "## Analyse test set"
   ]
  },
  {
   "cell_type": "markdown",
   "metadata": {},
   "source": [
    "### Load data"
   ]
  },
  {
   "cell_type": "code",
   "execution_count": 16,
   "metadata": {
    "id": "-8LUvoB5SK1b"
   },
   "outputs": [],
   "source": [
    "dataset_mrpc = \"datasets/test_set/mrpc_test.parquet\"\n",
    "dataset_paws = \"datasets/test_set/paws_labeled_final_test.parquet\"\n",
    "dataset_superGlue = \"datasets/test_set/superGlue_axg_test.parquet\""
   ]
  },
  {
   "cell_type": "code",
   "execution_count": 17,
   "metadata": {
    "id": "ZNQYPuCuSaoo"
   },
   "outputs": [],
   "source": [
    "df_paws = preprocess_dataset(dataset_paws, \"\", [\"sentence1\", \"sentence2\", \"label\"], [\"original_sentence\", \"paraphrased_sentence\", \"label\"])\n",
    "df_superGlue = preprocess_dataset(dataset_superGlue, \"\", [\"premise\", \"hypothesis\", \"label\"], [\"original_sentence\", \"paraphrased_sentence\", \"label\"])\n",
    "df_mrpc = preprocess_dataset(dataset_mrpc, \"\", [\"sentence1\", \"sentence2\", \"label\"], [\"original_sentence\", \"paraphrased_sentence\", \"label\"])\n",
    "\n",
    "df_testSet = pd.concat([df_paws, df_superGlue, df_mrpc])"
   ]
  },
  {
   "cell_type": "code",
   "execution_count": 18,
   "metadata": {},
   "outputs": [],
   "source": [
    "df_testSet = process_add_more_info(df_testSet, tokenizer, MAX_LEN)"
   ]
  },
  {
   "cell_type": "code",
   "execution_count": 19,
   "metadata": {},
   "outputs": [
    {
     "name": "stdout",
     "output_type": "stream",
     "text": [
      "       original_length  paraphrased_length  semantic_similarity\n",
      "count     10081.000000        10081.000000         10081.000000\n",
      "mean         20.744966           20.473465             0.635660\n",
      "std           5.545101            6.043503             0.224512\n",
      "min           5.000000            4.000000             0.112574\n",
      "25%          16.000000           16.000000             0.453207\n",
      "50%          20.000000           20.000000             0.624544\n",
      "75%          25.000000           25.000000             0.822457\n",
      "max          36.000000           35.000000             1.000000\n"
     ]
    }
   ],
   "source": [
    "print(df_testSet[['original_length', 'paraphrased_length', \"semantic_similarity\"]].describe())"
   ]
  },
  {
   "cell_type": "markdown",
   "metadata": {},
   "source": [
    "### Visulize length distribution"
   ]
  },
  {
   "cell_type": "code",
   "execution_count": null,
   "metadata": {},
   "outputs": [],
   "source": [
    "sns.set_style('whitegrid')\n",
    "\n",
    "plt.figure(figsize=(20, 10))\n",
    "# fig.tight_layout(pad=5.0)\n",
    "\n",
    "plt.subplot(3, 2, 1)\n",
    "sns.histplot(df_train_quality['original_length'], kde=True, color='skyblue', binwidth=1)\\\n",
    "    .set(xlabel=None)\n",
    "plt.title('Training Set Original Sentence Lengths')\n",
    "\n",
    "plt.subplot(3, 2, 2)\n",
    "sns.histplot(df_train_quality['paraphrased_length'], kde=True, color='salmon', binwidth=1)\\\n",
    "    .set(xlabel=None)\n",
    "plt.title('Training Set Paraphrased Sentence Lengths')\n",
    "\n",
    "\n",
    "plt.subplot(3, 2, 3)\n",
    "sns.histplot(df_validation['original_length'], kde=True, color='skyblue', binwidth=1)\\\n",
    "    .set(xlabel=None)\n",
    "plt.title('Validation Set Original Sentence Lengths')\n",
    "\n",
    "plt.subplot(3, 2, 4)\n",
    "sns.histplot(df_validation['paraphrased_length'], kde=True, color='salmon', binwidth=1)\\\n",
    "    .set(xlabel=None)\n",
    "plt.title('Validation Set Paraphrased Sentence Lengths')\n",
    "\n",
    "\n",
    "plt.subplot(3, 2, 5)\n",
    "sns.histplot(df_testSet['original_length'], kde=True, color='skyblue', binwidth=1)\n",
    "plt.title('Test Set Original Sentence Lengths')\n",
    "\n",
    "plt.subplot(3, 2, 6)\n",
    "sns.histplot(df_testSet['paraphrased_length'], kde=True, color='salmon', binwidth=1)\n",
    "plt.title('Test Set Paraphrased Sentence Lengths')\n",
    "\n",
    "# plt.show()\n",
    "plt.savefig(\"diagram/pictures/compare_sentence_length.png\", dpi=300)"
   ]
  },
  {
   "cell_type": "markdown",
   "metadata": {},
   "source": [
    "### Visualize the cosine similarity distributions"
   ]
  },
  {
   "cell_type": "code",
   "execution_count": 21,
   "metadata": {},
   "outputs": [
    {
     "data": {
      "image/png": "[encoded data removed]",
      "text/plain": [
       "<Figure size 1500x600 with 3 Axes>"
      ]
     },
     "metadata": {},
     "output_type": "display_data"
    }
   ],
   "source": [
    "plt.figure(figsize=(15, 6))\n",
    "\n",
    "plt.subplot(1, 3, 1)\n",
    "plt.hist(df_train_quality['semantic_similarity'], bins=10, color='skyblue', edgecolor='black')\n",
    "plt.title('Training Set Cosine Similarity')\n",
    "plt.xlabel('Cosine Similarity')\n",
    "plt.ylabel('Frequency')\n",
    "\n",
    "plt.subplot(1, 3, 2)\n",
    "plt.hist(df_validation['semantic_similarity'], bins=10, color='salmon', edgecolor='black')\n",
    "plt.title('Validation Set Cosine Similarity')\n",
    "plt.xlabel('Cosine Similarity')\n",
    "plt.ylabel('Frequency')\n",
    "\n",
    "plt.subplot(1, 3, 3)\n",
    "plt.hist(df_testSet['semantic_similarity'], bins=10, color='lightgreen', edgecolor='black')\n",
    "plt.title('Test Set Cosine Similarity')\n",
    "plt.xlabel('Cosine Similarity')\n",
    "plt.ylabel('Frequency')\n",
    "\n",
    "# plt.show()\n",
    "plt.savefig(\"diagram/pictures/compare_cosine_similarity.png\", dpi=300)\n"
   ]
  },
  {
   "cell_type": "code",
   "execution_count": null,
   "metadata": {},
   "outputs": [],
   "source": [
    "diagram/pictures"
   ]
  }
 ],
 "metadata": {
  "colab": {
   "collapsed_sections": [
    "olSJRc4saTXy",
    "b4Hi5tuoQUoN",
    "ftcT84FtRZHx",
    "tT4V59tSSIeG",
    "CmIZ-wv5bUAO",
    "X0Jl8bzibeZE"
   ],
   "gpuType": "T4",
   "machine_shape": "hm",
   "provenance": []
  },
  "kernelspec": {
   "display_name": "Python_3.11",
   "language": "python",
   "name": "py_3.11"
  },
  "language_info": {
   "codemirror_mode": {
    "name": "ipython",
    "version": 3
   },
   "file_extension": ".py",
   "mimetype": "text/x-python",
   "name": "python",
   "nbconvert_exporter": "python",
   "pygments_lexer": "ipython3",
   "version": "3.11.4"
  }
 },
 "nbformat": 4,
 "nbformat_minor": 1
}
